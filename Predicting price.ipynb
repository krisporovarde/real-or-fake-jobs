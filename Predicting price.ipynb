{
 "cells": [
  {
   "cell_type": "code",
   "execution_count": null,
   "id": "2cda0eea",
   "metadata": {},
   "outputs": [],
   "source": [
    "!pip install fuzzywuzzy\n",
    "!pip install thefuzz\n",
    "!pip install python-Levenshtein"
   ]
  },
  {
   "cell_type": "code",
   "execution_count": 25,
   "id": "b2a30db1",
   "metadata": {},
   "outputs": [],
   "source": [
    "import pandas as pd\n",
    "import numpy as np\n",
    "import seaborn as sns\n",
    "import fuzzywuzzy\n",
    "from thefuzz import fuzz\n",
    "import Levenshtein\n",
    "from itertools import combinations\n",
    "from difflib import get_close_matches\n",
    "from sklearn.ensemble import RandomForestClassifier\n",
    "from sklearn.ensemble import RandomForestRegressor\n",
    "from sklearn.metrics import confusion_matrix\n",
    "from sklearn.metrics import accuracy_score\n",
    "import matplotlib.pyplot as plt\n",
    "from sklearn.model_selection import train_test_split\n",
    "from sklearn.metrics import mean_squared_error\n",
    "from sklearn.model_selection import RandomizedSearchCV\n",
    "from sklearn.metrics import r2_score\n",
    "from sklearn import preprocessing"
   ]
  },
  {
   "cell_type": "code",
   "execution_count": 2,
   "id": "a8fcfd2e",
   "metadata": {
    "scrolled": false
   },
   "outputs": [
    {
     "data": {
      "text/html": [
       "<div>\n",
       "<style scoped>\n",
       "    .dataframe tbody tr th:only-of-type {\n",
       "        vertical-align: middle;\n",
       "    }\n",
       "\n",
       "    .dataframe tbody tr th {\n",
       "        vertical-align: top;\n",
       "    }\n",
       "\n",
       "    .dataframe thead th {\n",
       "        text-align: right;\n",
       "    }\n",
       "</style>\n",
       "<table border=\"1\" class=\"dataframe\">\n",
       "  <thead>\n",
       "    <tr style=\"text-align: right;\">\n",
       "      <th></th>\n",
       "      <th>id</th>\n",
       "      <th>url</th>\n",
       "      <th>region</th>\n",
       "      <th>region_url</th>\n",
       "      <th>price</th>\n",
       "      <th>year</th>\n",
       "      <th>manufacturer</th>\n",
       "      <th>model</th>\n",
       "      <th>condition</th>\n",
       "      <th>cylinders</th>\n",
       "      <th>...</th>\n",
       "      <th>size</th>\n",
       "      <th>type</th>\n",
       "      <th>paint_color</th>\n",
       "      <th>image_url</th>\n",
       "      <th>description</th>\n",
       "      <th>county</th>\n",
       "      <th>state</th>\n",
       "      <th>lat</th>\n",
       "      <th>long</th>\n",
       "      <th>posting_date</th>\n",
       "    </tr>\n",
       "  </thead>\n",
       "  <tbody>\n",
       "    <tr>\n",
       "      <th>0</th>\n",
       "      <td>7222695916</td>\n",
       "      <td>https://prescott.craigslist.org/cto/d/prescott...</td>\n",
       "      <td>prescott</td>\n",
       "      <td>https://prescott.craigslist.org</td>\n",
       "      <td>6000</td>\n",
       "      <td>NaN</td>\n",
       "      <td>NaN</td>\n",
       "      <td>NaN</td>\n",
       "      <td>NaN</td>\n",
       "      <td>NaN</td>\n",
       "      <td>...</td>\n",
       "      <td>NaN</td>\n",
       "      <td>NaN</td>\n",
       "      <td>NaN</td>\n",
       "      <td>NaN</td>\n",
       "      <td>NaN</td>\n",
       "      <td>NaN</td>\n",
       "      <td>az</td>\n",
       "      <td>NaN</td>\n",
       "      <td>NaN</td>\n",
       "      <td>NaN</td>\n",
       "    </tr>\n",
       "    <tr>\n",
       "      <th>1</th>\n",
       "      <td>7218891961</td>\n",
       "      <td>https://fayar.craigslist.org/ctd/d/bentonville...</td>\n",
       "      <td>fayetteville</td>\n",
       "      <td>https://fayar.craigslist.org</td>\n",
       "      <td>11900</td>\n",
       "      <td>NaN</td>\n",
       "      <td>NaN</td>\n",
       "      <td>NaN</td>\n",
       "      <td>NaN</td>\n",
       "      <td>NaN</td>\n",
       "      <td>...</td>\n",
       "      <td>NaN</td>\n",
       "      <td>NaN</td>\n",
       "      <td>NaN</td>\n",
       "      <td>NaN</td>\n",
       "      <td>NaN</td>\n",
       "      <td>NaN</td>\n",
       "      <td>ar</td>\n",
       "      <td>NaN</td>\n",
       "      <td>NaN</td>\n",
       "      <td>NaN</td>\n",
       "    </tr>\n",
       "    <tr>\n",
       "      <th>2</th>\n",
       "      <td>7221797935</td>\n",
       "      <td>https://keys.craigslist.org/cto/d/summerland-k...</td>\n",
       "      <td>florida keys</td>\n",
       "      <td>https://keys.craigslist.org</td>\n",
       "      <td>21000</td>\n",
       "      <td>NaN</td>\n",
       "      <td>NaN</td>\n",
       "      <td>NaN</td>\n",
       "      <td>NaN</td>\n",
       "      <td>NaN</td>\n",
       "      <td>...</td>\n",
       "      <td>NaN</td>\n",
       "      <td>NaN</td>\n",
       "      <td>NaN</td>\n",
       "      <td>NaN</td>\n",
       "      <td>NaN</td>\n",
       "      <td>NaN</td>\n",
       "      <td>fl</td>\n",
       "      <td>NaN</td>\n",
       "      <td>NaN</td>\n",
       "      <td>NaN</td>\n",
       "    </tr>\n",
       "    <tr>\n",
       "      <th>3</th>\n",
       "      <td>7222270760</td>\n",
       "      <td>https://worcester.craigslist.org/cto/d/west-br...</td>\n",
       "      <td>worcester / central MA</td>\n",
       "      <td>https://worcester.craigslist.org</td>\n",
       "      <td>1500</td>\n",
       "      <td>NaN</td>\n",
       "      <td>NaN</td>\n",
       "      <td>NaN</td>\n",
       "      <td>NaN</td>\n",
       "      <td>NaN</td>\n",
       "      <td>...</td>\n",
       "      <td>NaN</td>\n",
       "      <td>NaN</td>\n",
       "      <td>NaN</td>\n",
       "      <td>NaN</td>\n",
       "      <td>NaN</td>\n",
       "      <td>NaN</td>\n",
       "      <td>ma</td>\n",
       "      <td>NaN</td>\n",
       "      <td>NaN</td>\n",
       "      <td>NaN</td>\n",
       "    </tr>\n",
       "    <tr>\n",
       "      <th>4</th>\n",
       "      <td>7210384030</td>\n",
       "      <td>https://greensboro.craigslist.org/cto/d/trinit...</td>\n",
       "      <td>greensboro</td>\n",
       "      <td>https://greensboro.craigslist.org</td>\n",
       "      <td>4900</td>\n",
       "      <td>NaN</td>\n",
       "      <td>NaN</td>\n",
       "      <td>NaN</td>\n",
       "      <td>NaN</td>\n",
       "      <td>NaN</td>\n",
       "      <td>...</td>\n",
       "      <td>NaN</td>\n",
       "      <td>NaN</td>\n",
       "      <td>NaN</td>\n",
       "      <td>NaN</td>\n",
       "      <td>NaN</td>\n",
       "      <td>NaN</td>\n",
       "      <td>nc</td>\n",
       "      <td>NaN</td>\n",
       "      <td>NaN</td>\n",
       "      <td>NaN</td>\n",
       "    </tr>\n",
       "  </tbody>\n",
       "</table>\n",
       "<p>5 rows × 26 columns</p>\n",
       "</div>"
      ],
      "text/plain": [
       "           id                                                url  \\\n",
       "0  7222695916  https://prescott.craigslist.org/cto/d/prescott...   \n",
       "1  7218891961  https://fayar.craigslist.org/ctd/d/bentonville...   \n",
       "2  7221797935  https://keys.craigslist.org/cto/d/summerland-k...   \n",
       "3  7222270760  https://worcester.craigslist.org/cto/d/west-br...   \n",
       "4  7210384030  https://greensboro.craigslist.org/cto/d/trinit...   \n",
       "\n",
       "                   region                         region_url  price  year  \\\n",
       "0                prescott    https://prescott.craigslist.org   6000   NaN   \n",
       "1            fayetteville       https://fayar.craigslist.org  11900   NaN   \n",
       "2            florida keys        https://keys.craigslist.org  21000   NaN   \n",
       "3  worcester / central MA   https://worcester.craigslist.org   1500   NaN   \n",
       "4              greensboro  https://greensboro.craigslist.org   4900   NaN   \n",
       "\n",
       "  manufacturer model condition cylinders  ... size  type paint_color  \\\n",
       "0          NaN   NaN       NaN       NaN  ...  NaN   NaN         NaN   \n",
       "1          NaN   NaN       NaN       NaN  ...  NaN   NaN         NaN   \n",
       "2          NaN   NaN       NaN       NaN  ...  NaN   NaN         NaN   \n",
       "3          NaN   NaN       NaN       NaN  ...  NaN   NaN         NaN   \n",
       "4          NaN   NaN       NaN       NaN  ...  NaN   NaN         NaN   \n",
       "\n",
       "  image_url description county state lat long posting_date  \n",
       "0       NaN         NaN    NaN    az NaN  NaN          NaN  \n",
       "1       NaN         NaN    NaN    ar NaN  NaN          NaN  \n",
       "2       NaN         NaN    NaN    fl NaN  NaN          NaN  \n",
       "3       NaN         NaN    NaN    ma NaN  NaN          NaN  \n",
       "4       NaN         NaN    NaN    nc NaN  NaN          NaN  \n",
       "\n",
       "[5 rows x 26 columns]"
      ]
     },
     "execution_count": 2,
     "metadata": {},
     "output_type": "execute_result"
    }
   ],
   "source": [
    "data = pd.read_csv('vehicles.csv')\n",
    "data.head()"
   ]
  },
  {
   "cell_type": "markdown",
   "id": "6bd2411b",
   "metadata": {},
   "source": [
    "# 1.  Data understanding"
   ]
  },
  {
   "cell_type": "code",
   "execution_count": 19,
   "id": "4dc67b2e",
   "metadata": {
    "scrolled": true
   },
   "outputs": [
    {
     "data": {
      "text/plain": [
       "Index(['price', 'year', 'manufacturer', 'condition', 'cylinders', 'odometer',\n",
       "       'fuel', 'transmission', 'drive', 'type', 'paint_color', 'size',\n",
       "       'model'],\n",
       "      dtype='object')"
      ]
     },
     "execution_count": 19,
     "metadata": {},
     "output_type": "execute_result"
    }
   ],
   "source": [
    "data.columns"
   ]
  },
  {
   "cell_type": "code",
   "execution_count": 4,
   "id": "a4a35665",
   "metadata": {
    "scrolled": true
   },
   "outputs": [
    {
     "data": {
      "text/plain": [
       "(426880, 26)"
      ]
     },
     "execution_count": 4,
     "metadata": {},
     "output_type": "execute_result"
    }
   ],
   "source": [
    "data.shape"
   ]
  },
  {
   "cell_type": "code",
   "execution_count": 8,
   "id": "fda659e7",
   "metadata": {},
   "outputs": [
    {
     "name": "stdout",
     "output_type": "stream",
     "text": [
      "<class 'pandas.core.frame.DataFrame'>\n",
      "RangeIndex: 426880 entries, 0 to 426879\n",
      "Data columns (total 26 columns):\n",
      " #   Column        Non-Null Count   Dtype  \n",
      "---  ------        --------------   -----  \n",
      " 0   id            426880 non-null  int64  \n",
      " 1   url           426880 non-null  object \n",
      " 2   region        426880 non-null  object \n",
      " 3   region_url    426880 non-null  object \n",
      " 4   price         426880 non-null  int64  \n",
      " 5   year          425675 non-null  float64\n",
      " 6   manufacturer  409234 non-null  object \n",
      " 7   model         421603 non-null  object \n",
      " 8   condition     252776 non-null  object \n",
      " 9   cylinders     249202 non-null  object \n",
      " 10  fuel          423867 non-null  object \n",
      " 11  odometer      422480 non-null  float64\n",
      " 12  title_status  418638 non-null  object \n",
      " 13  transmission  424324 non-null  object \n",
      " 14  VIN           265838 non-null  object \n",
      " 15  drive         296313 non-null  object \n",
      " 16  size          120519 non-null  object \n",
      " 17  type          334022 non-null  object \n",
      " 18  paint_color   296677 non-null  object \n",
      " 19  image_url     426812 non-null  object \n",
      " 20  description   426810 non-null  object \n",
      " 21  county        0 non-null       float64\n",
      " 22  state         426880 non-null  object \n",
      " 23  lat           420331 non-null  float64\n",
      " 24  long          420331 non-null  float64\n",
      " 25  posting_date  426812 non-null  object \n",
      "dtypes: float64(5), int64(2), object(19)\n",
      "memory usage: 84.7+ MB\n"
     ]
    }
   ],
   "source": [
    "data.info()"
   ]
  },
  {
   "cell_type": "code",
   "execution_count": 9,
   "id": "7abb6e9d",
   "metadata": {
    "scrolled": false
   },
   "outputs": [
    {
     "data": {
      "text/plain": [
       "id                   0\n",
       "url                  0\n",
       "region               0\n",
       "region_url           0\n",
       "price                0\n",
       "year              1205\n",
       "manufacturer     17646\n",
       "model             5277\n",
       "condition       174104\n",
       "cylinders       177678\n",
       "fuel              3013\n",
       "odometer          4400\n",
       "title_status      8242\n",
       "transmission      2556\n",
       "VIN             161042\n",
       "drive           130567\n",
       "size            306361\n",
       "type             92858\n",
       "paint_color     130203\n",
       "image_url           68\n",
       "description         70\n",
       "county          426880\n",
       "state                0\n",
       "lat               6549\n",
       "long              6549\n",
       "posting_date        68\n",
       "dtype: int64"
      ]
     },
     "execution_count": 9,
     "metadata": {},
     "output_type": "execute_result"
    }
   ],
   "source": [
    "data.isna().sum()"
   ]
  },
  {
   "cell_type": "markdown",
   "id": "861e9657",
   "metadata": {},
   "source": [
    "Print out all of the columns `value_counts()`. Then we analyise by hand what features to use in our model and what not to use."
   ]
  },
  {
   "cell_type": "code",
   "execution_count": 10,
   "id": "aaccaccb",
   "metadata": {
    "scrolled": true
   },
   "outputs": [
    {
     "name": "stdout",
     "output_type": "stream",
     "text": [
      "7222695916    1\n",
      "7313139418    1\n",
      "7313423023    1\n",
      "7313423324    1\n",
      "7313424533    1\n",
      "             ..\n",
      "7314655506    1\n",
      "7314655833    1\n",
      "7314657468    1\n",
      "7314659947    1\n",
      "7301591129    1\n",
      "Name: id, Length: 426880, dtype: int64\n",
      "https://prescott.craigslist.org/cto/d/prescott-2010-ford-ranger/7222695916.html                     1\n",
      "https://nh.craigslist.org/cto/d/troy-1998-dodge-ram-59-cummins/7313139418.html                      1\n",
      "https://nh.craigslist.org/ctd/d/north-hampton-2012-hyundai-sante-fe-se/7313423023.html              1\n",
      "https://nh.craigslist.org/ctd/d/derry-2008-chrysler-sebring-limited-all/7313423324.html             1\n",
      "https://nh.craigslist.org/ctd/d/derry-2002-toyota-camry-low-miles/7313424533.html                   1\n",
      "                                                                                                   ..\n",
      "https://chicago.craigslist.org/chc/cto/d/pleasant-prairie-2015-f80-m3-700hp-many/7314655506.html    1\n",
      "https://chicago.craigslist.org/wcl/cto/d/saint-charles-2013-ford-focus-titanium/7314655833.html     1\n",
      "https://chicago.craigslist.org/nwc/cto/d/northbrook-runner-ltd-4x4-owner/7314657468.html            1\n",
      "https://chicago.craigslist.org/sox/cto/d/chicago-2001-honda-civic-exgas-saver/7314659947.html       1\n",
      "https://wyoming.craigslist.org/ctd/d/atlanta-2019-bmw-series-430i-gran-coupe/7301591129.html        1\n",
      "Name: url, Length: 426880, dtype: int64\n",
      "columbus                   3608\n",
      "jacksonville               3562\n",
      "spokane / coeur d'alene    2988\n",
      "eugene                     2985\n",
      "fresno / madera            2983\n",
      "                           ... \n",
      "meridian                     28\n",
      "southwest MS                 14\n",
      "kansas city                  11\n",
      "fort smith, AR                9\n",
      "west virginia (old)           8\n",
      "Name: region, Length: 404, dtype: int64\n",
      "https://spokane.craigslist.org     2988\n",
      "https://eugene.craigslist.org      2985\n",
      "https://fresno.craigslist.org      2983\n",
      "https://orlando.craigslist.org     2983\n",
      "https://omaha.craigslist.org       2982\n",
      "                                   ... \n",
      "https://nesd.craigslist.org          34\n",
      "https://bigbend.craigslist.org       30\n",
      "https://meridian.craigslist.org      28\n",
      "https://natchez.craigslist.org       14\n",
      "https://wv.craigslist.org             8\n",
      "Name: region_url, Length: 413, dtype: int64\n",
      "0        32895\n",
      "6995      3169\n",
      "7995      3129\n",
      "9995      2867\n",
      "8995      2837\n",
      "         ...  \n",
      "21298        1\n",
      "49217        1\n",
      "63195        1\n",
      "19709        1\n",
      "17873        1\n",
      "Name: price, Length: 15655, dtype: int64\n",
      "2017.0    36420\n",
      "2018.0    36369\n",
      "2015.0    31538\n",
      "2013.0    30794\n",
      "2016.0    30434\n",
      "          ...  \n",
      "1943.0        1\n",
      "1915.0        1\n",
      "1902.0        1\n",
      "1905.0        1\n",
      "1909.0        1\n",
      "Name: year, Length: 114, dtype: int64\n",
      "ford               70985\n",
      "chevrolet          55064\n",
      "toyota             34202\n",
      "honda              21269\n",
      "nissan             19067\n",
      "jeep               19014\n",
      "ram                18342\n",
      "gmc                16785\n",
      "bmw                14699\n",
      "dodge              13707\n",
      "mercedes-benz      11817\n",
      "hyundai            10338\n",
      "subaru              9495\n",
      "volkswagen          9345\n",
      "kia                 8457\n",
      "lexus               8200\n",
      "audi                7573\n",
      "cadillac            6953\n",
      "chrysler            6031\n",
      "acura               5978\n",
      "buick               5501\n",
      "mazda               5427\n",
      "infiniti            4802\n",
      "lincoln             4220\n",
      "volvo               3374\n",
      "mitsubishi          3292\n",
      "mini                2376\n",
      "pontiac             2288\n",
      "rover               2113\n",
      "jaguar              1946\n",
      "porsche             1384\n",
      "mercury             1184\n",
      "saturn              1090\n",
      "alfa-romeo           897\n",
      "tesla                868\n",
      "fiat                 792\n",
      "harley-davidson      153\n",
      "ferrari               95\n",
      "datsun                63\n",
      "aston-martin          24\n",
      "land rover            21\n",
      "morgan                 3\n",
      "Name: manufacturer, dtype: int64\n",
      "f-150                       8009\n",
      "silverado 1500              5140\n",
      "1500                        4211\n",
      "camry                       3135\n",
      "silverado                   3023\n",
      "                            ... \n",
      "Huyndai Sante Fe Limited       1\n",
      "astro awd 4x4                  1\n",
      "escalade and                   1\n",
      "cx 3                           1\n",
      "Paige Glenbrook Touring        1\n",
      "Name: model, Length: 29667, dtype: int64\n",
      "good         121456\n",
      "excellent    101467\n",
      "like new      21178\n",
      "fair           6769\n",
      "new            1305\n",
      "salvage         601\n",
      "Name: condition, dtype: int64\n",
      "6 cylinders     94169\n",
      "4 cylinders     77642\n",
      "8 cylinders     72062\n",
      "5 cylinders      1712\n",
      "10 cylinders     1455\n",
      "other            1298\n",
      "3 cylinders       655\n",
      "12 cylinders      209\n",
      "Name: cylinders, dtype: int64\n",
      "gas         356209\n",
      "other        30728\n",
      "diesel       30062\n",
      "hybrid        5170\n",
      "electric      1698\n",
      "Name: fuel, dtype: int64\n",
      "100000.0    2263\n",
      "1.0         2246\n",
      "0.0         1965\n",
      "200000.0    1728\n",
      "150000.0    1603\n",
      "            ... \n",
      "149468.0       1\n",
      "154259.0       1\n",
      "111887.0       1\n",
      "213826.0       1\n",
      "26892.0        1\n",
      "Name: odometer, Length: 104870, dtype: int64\n",
      "clean         405117\n",
      "rebuilt         7219\n",
      "salvage         3868\n",
      "lien            1422\n",
      "missing          814\n",
      "parts only       198\n",
      "Name: title_status, dtype: int64\n",
      "automatic    336524\n",
      "other         62682\n",
      "manual        25118\n",
      "Name: transmission, dtype: int64\n",
      "1FMJU1JT1HEA52352    261\n",
      "3C6JR6DT3KG560649    235\n",
      "1FTER1EH1LLA36301    231\n",
      "5TFTX4CN3EX042751    227\n",
      "1GCHTCE37G1186784    214\n",
      "                    ... \n",
      "2G4GP5EX5E9213578      1\n",
      "1GCEK19J78Z219711      1\n",
      "JA4AT3AW1AZ006543      1\n",
      "4T1BF28B61U153724      1\n",
      "SAJGX2749VCOO8376      1\n",
      "Name: VIN, Length: 118264, dtype: int64\n",
      "4wd    131904\n",
      "fwd    105517\n",
      "rwd     58892\n",
      "Name: drive, dtype: int64\n",
      "full-size      63465\n",
      "mid-size       34476\n",
      "compact        19384\n",
      "sub-compact     3194\n",
      "Name: size, dtype: int64\n",
      "sedan          87056\n",
      "SUV            77284\n",
      "pickup         43510\n",
      "truck          35279\n",
      "other          22110\n",
      "coupe          19204\n",
      "hatchback      16598\n",
      "wagon          10751\n",
      "van             8548\n",
      "convertible     7731\n",
      "mini-van        4825\n",
      "offroad          609\n",
      "bus              517\n",
      "Name: type, dtype: int64\n",
      "white     79285\n",
      "black     62861\n",
      "silver    42970\n",
      "blue      31223\n",
      "red       30473\n",
      "grey      24416\n",
      "green      7343\n",
      "custom     6700\n",
      "brown      6593\n",
      "yellow     2142\n",
      "orange     1984\n",
      "purple      687\n",
      "Name: paint_color, dtype: int64\n",
      "https://images.craigslist.org/00N0N_1xMPvfxRAIdz_0gw0co_600x450.jpg    7357\n",
      "https://images.craigslist.org/00R0R_lwWjXSEWNa7z_0x20oM_600x450.jpg    2192\n",
      "https://images.craigslist.org/01111_l590CdXzJSoz_001001_600x450.jpg     276\n",
      "https://images.craigslist.org/01313_9Zne268YnWZz_0gw0co_600x450.jpg     231\n",
      "https://images.craigslist.org/00X0X_1cMDo5xqSuAz_0gw0co_600x450.jpg     227\n",
      "                                                                       ... \n",
      "https://images.craigslist.org/00a0a_gbpYPGPfZEwz_0lM0t2_600x450.jpg       1\n",
      "https://images.craigslist.org/00e0e_g9RfXGmsjDaz_0CI0hq_600x450.jpg       1\n",
      "https://images.craigslist.org/00Y0Y_4fRgRCeuUj2z_0CI0t2_600x450.jpg       1\n",
      "https://images.craigslist.org/00K0K_fUdf8IWJOlmz_0t20CI_600x450.jpg       1\n",
      "https://images.craigslist.org/00C0C_3D2bgxR1cysz_0ak07K_600x450.jpg       1\n",
      "Name: image_url, Length: 241899, dtype: int64\n",
      "35 VEHICLES PRICED UNDER $3000!!!  BIG TIME! TAX TIME! SALE TIME!  CALL US NOW!!! 321-242-0328  30TH YEAR IN BUSINESS!!!!  OUR ADDRESS:  1900 AURORA RD. MELBOURNE, FL 32935  321-242-0328  Call us or visit us now we have a huge selection of honda accord and civic and pilot in stock at all times! we specialize in Toyota Camry and Corolla and Sienna and 3RD Row Suv. We also stock Domestics like Ford Fusion Explorer and Escape and the really nice Edge. if you care looking for Chevy Traverse or Chevrolet Malibu or Impala and Cruze for gas saving we have those as well, including Buick Enclave we always have em! Lacrosse and Regal are here too! Encore is available just call first. We stock Luxury Brands like Acura Lexus and German brands BMW Mercedes Benz and Audi. Dont get us started on Jeep! We love to sell Grand Cherokee and Patriot and Compass! Want a Really Nice Minivan!?! We got Chrysler Town and Country Dodge Grand Caravan and Honda Odyssey Always Here!! Sporty? Charger Challanger Mustang and Camro can be located for you! Are you Hip? Kia Soul and Optima are your bag, we got em!!!! Mazda is here too!! 3 and 6 and CX9. Our Number one seller for 3RD Row is the Dodge Journey and Durango, we always have a bunch in stock, back up camera and push button start bluetooth panoramic sunroof. Cadillac SRX for the luxury driver is here too! Ever driven a Nissan Altima or Sentra or Pathfinder or Rogue, come drive one today and feel the sporty drive!                                                                                                                                                                                                                                                                                                                                                                                                                                                                                                                                                                                                                                                                                                                                                                                                                                                                                                                                                                                                                                                                                                                                                                                                                                                                                                                                                                                                                                                                                                                                                                                                                                                                                                                                                                                                                                                                                                                                                                                                                                                                                                                                                                                                                                                                                                                                                                                                                                                                                                                                                                                                                                                                                                                                                                                                                                                                                                                                                                                                                                                                                                                                                                                                                                                                                                                                                                                                                                                                                                                                                                                                                                                                                                                                                                                                                                                                                                                                                                                                                                                                                                                                                                                                                                                                                                                                                                                                                                                                                                                                                                                                                                                                                                                                                                                                                                                                                                                                                                                                                                                                                                                                                                                                                                                                                                                                                                                                                                                                                                                                                                                                                                                                                                                                                                                                                                                                                                                                                                                                                                                                                                                                                                                                                                                                                                                                                                                                                                                                                                                                                                                                                                                                                                                                                                                                                                                                                                                                                                                                                                                                                                                                                                                                                                                                                                                                                                                                                                                                                                                                                                                                                                                                                                                                                                                                                                                                                                                                                                                                                                                                                                                                                                                                                                                                                                                                                                                                                                                                                                                                                                                                            231\n",
      "Call or text today to find out more. (602) 620-6525 Calls only landline (406) 245-1785  Available at Standard Auto Sales 1503 Broadwater Ave. Billings, MT 59102 standardautosales.net   Need help with financing? We have options for most credit situations. We never charge a doc fee! Extended service contracts available. We buy cars and take consignments! Call or text Mike today to find out more. (602) 620-6525  Welcome to Standard Auto Sales, located in Billings, MT, where quality service and customer satisfaction come first. We are here to help you find a vehicle that fits your lifestyle from our wide selection of used cars, trucks, and SUVs. We pride ourselves on a hassle-free car buying experience where your needs come first. Swing by to let us exceed your expectations while finding the perfect vehicle! Do you need financing for your next used vehicle purchase? Do you have a good credit, bad credit or no credit history situation? We work with a variety of financial institutions and we will work hard to get you approved quickly and easily, at the best rate possible! Apply now or call us at (406) 245-1785 or text (602) 620-6525 to schedule a test drive today!                                                                                                                                                                                                                                                                                                                                                                                                                                                                                                                                                                                                                                                                                                                                                                                                                                                                                                                                                                                                                                                                                                                                                                                                                                                                                                                                                                                                                                                                                                                                                                                                                                                                                                                                                                                                                                                                                                                                                                                                                                                                                                                                                                                                                                                                                                                                                                                                                                                                                                                                                                                                                                                                                                                                                                                                                                                                                                                                                                                                                                                                                                                                                                                                                                                                                                                                                                                                                                                                                                                                                                                                                                                                                                                                                                                                                                                                                                                                                                                                                                                                                                                                                                                                                                                                                                                                                                                                                                                                                                                                                                                                                                                                                                                                                                                                                                                                                                                                                                                                                                                                                                                                                                                                                                                                                                                                                                                                                                                                                                                                                                                                                                                                                                                                                                                                                                                                                                                                                                                                                                                                                                                                                                                                                                                                                                                                                                                                                                                                                                                                                                                                                                                                                                                                                                                                                                                                                                                                                                                                                                                                                                                                                                                                                                                                                                                                                                                                                                                                                                                                                                                                                                                                                                                                                                                                                                                                                                                                                                                                                                                                                                                                                                                                                                                                                                                                                                                                                                                                                                                                                                                                                                                                                                                                                                                                                                                                                                        197\n",
      "This truck has sold, but we buy trucks like this. If you know of one of these trucks for sale, we pay a finders fee.  Call Bobby! (636) 587 - 0660    7.3 7.3l 6.6 6.6l 5.9 5.9 6.7 6.7l powerstroke power stroke duramax cummins diesel lly lbz dmax pstroke big block small block big block smallblock sbf sbc bbf bbc efi 302 460 351 6.0 6.0L 5.0L 5.0 5.8L 5.8 7.5L 7.5 496 454 stroker 8.1 8.1L 12v 24v 4x4 four wheel drive 4wd laramie SLT Lariat lt lt1 lt2 lt3 ls club quad single crew cab clubcab quadcab singlecab crewcab cclb long bed longbed short shortbed  ccsb sclb scsb rustfree rust free clean 4door 2-door 2door 4-door ford dodge chevrolet chevy gmc sierra silverado f-250 f-350 f250 f350 ram 2500 3500 1st gen first gen firstgen 2nd gen 2ndgen second gen secondgen 3rd gen 3rdgen third gen thirdgen OBS superduty excursion supercrew supercab super duty 5-speed 6-speed stick shift stickshift manual transmission clutch intercooled inter cooled turbocharged turbo charged lonestar bighorn lone star big horn longhorn long horn low mile lowmile puller camper camp haul hauling hauler tow towing rig gooseneck goose neck 5th wheel fifth wheel 5thwheel fifthwheel hitch                                                                                                                                                                                                                                                                                                                                                                                                                                                                                                                                                                                                                                                                                                                                                                                                                                                                                                                                                                                                                                                                                                                                                                                                                                                                                                                                                                                                                                                                                                                                                                                                                                                                                                                                                                                                                                                                                                                                                                                                                                                                                                                                                                                                                                                                                                                                                                                                                                                                                                                                                                                                                                                                                                                                                                                                                                                                                                                                                                                                                                                                                                                                                                                                                                                                                                                                                                                                                                                                                                                                                                                                                                                                                                                                                                                                                                                                                                                                                                                                                                                                                                                                                                                                                                                                                                                                                                                                                                                                                                                                                                                                                                                                                                                                                                                                                                                                                                                                                                                                                                                                                                                                                                                                                                                                                                                                                                                                                                                                                                                                                                                                                                                                                                                                                                                                                                                                                                                                                                                                                                                                                                                                                                                                                                                                                                                                                                                                                                                                                                                                                                                                                                                                                                                                                                                                                                                                                                                                                                                                                                                                                                                                                                                                                                                                                                                                                                                                                                                                                                                                                                                                                                                                                                                                                                                                                                                                                                                                                                                                                                                                                                                                                                                                                                                                                                                                                                                                                                                                                                                                                                                                                                                                                                                                                                                                                                                                                                             154\n",
      "CREDIT CARS- $700.00 DOWN- RIGHT ON THE CORNER, RIGHT ON THE CREDIT!!  CALL US TODAY @ 352-204-2923 OR 352-204-2137. $700 DOWN!!!!!  CREDIT CHALLENGES??- NO PROBLEM- COME SEE US TODAY!  WE USE YOUR JOB AS YOUR CREDIT! ALL YOU NEED IS INCOME, PROOF OF INSURANCE, DRIVERS LICENSE, AND $700.00!!!  COME SEE US TODAY AT 320 NE 23RD AVENUE GAINESVILLE, FL 32609  WE ARE OPEN MONDAY- FRIDAY 9:00AM TO 7:00PM AND SATURDAY 9:00AM- 5:00PM  352-204-2137 OR 352-204-2137 CALL US TODAY TO SCHEDULE APPT!!  ⭐ Great Financing Options Available ⭐  ✅ Bad Credit? ✅ No Credit? ✅ First Time Buyer? ✅ We Work With Dozens Of Dealers To Get You Approved Fast Regardless Of Your Credit Situation.  🚘 Ready To Get Behind The Wheel Of Your New Car 🚘  100% APPROVAL! We use your job as your credit!  We Guarantee It! No matter your financial situation, you will drive off the lot in a new car, today.  ✅ Bad Credit ✅ No Credit ✅ Repossession ✅ Foreclosure ✅ SSI ✅ Disability ✅ Government Assistance  YOU'RE APPROVED!  🚘 🚘  ✅ Huge Selection Of Quality Pre-Owned Cars ✅ Leave With Confidence ✅ Trade-In Your Car Today For A Great Discount   📍 Stop By Today                                                                                                                                                                                                                                                                                                                                                                                                                                                                                                                                                                                                                                                                                                                                                                                                                                                                                                                                                                                                                                                                                                                                                                                                                                                                                                                                                                                                                                                                                                                                                                                                                                                                                                                                                                                                                                                                                                                                                                                                                                                                                                                                                                                                                                                                                                                                                                                                                                                                                                                                                                                                                                                                                                                                                                                                                                                                                                                                                                                                                                                                                                                                                                                                                                                                                                                                                                                                                                                                                                                                                                                                                                                                                                                                                                                                                                                                                                                                                                                                                                                                                                                                                                                                                                                                                                                                                                                                                                                                                                                                                                                                                                                                                                                                                                                                                                                                                                                                                                                                                                                                                                                                                                                                                                                                                                                                                                                                                                                                                                                                                                                                                                                                                                                                                                                                                                                                                                                                                                                                                                                                                                                                                                                                                                                                                                                                                                                                                                                                                                                                                                                                                                                                                                                                                                                                                                                                                                                                                                                                                                                                                                                                                                                                                                                                                                                                                                                                                                                                                                                                                                                                                                                                                                                                                                                                                                                                                                                                                                                                                                                                                                                                                                                                                                                                                                                                                                                                                                                                                                                                                                                                                                                                                                                                                                                                                                                                                                                                                       148\n",
      "HEC LEASING, LLC Call Gary, Russ or Clay at 888-366-1571  Down payment includes Factory Warranty with each truck!  AVAILABLE TRUCKS    2018 FREIGHTLINER CASCADIA 72\" CONDOS Detroit DD13 450HP @ 1800RPM with Engine Brake Eaton Fuller FOM-15E310C-LAS Ultrashift Plus Automatic Transmission  \\tDetroit DA-RT-4.0.0-4 HT 40,000 lb. R-Series Tandem Rear Axel \\t3.42 RatioAirliner Plus 40,000-lb. Load Transfer Rear Suspension w/Dump Valve \\tFontaine 6ATB Air Slide 5th Wheel w/Dash Mounted Control Valve \\t22.5 Low Profile Tires w/Polished Outer Aluminum Wheels \\t228\" Wheelbase \\tDual 100 Gallon Aluminum Fuel Tanks \\tPremium High Back Air Seats \\tPower Windows & Mirrors \\tAdjustable Tilt and Telescoping Steering Column \\tDelphi AM/FM/WB/Sirius Radio w/CD & Bluetooth \\tParkSmart HVAC System w/Espar Aux Heater in Sleeper \\t40\" Lower Bunk w/Foldable Upper Bunk   HEC LEASING, LLC Call Gary, Russ or Clay at 888-366-1571  2018 KENWORTH T680 76” CONDO Balance of Manufactures Warranty Engine Make PACCAR Engine Model MX-13 Engine HP 455 Engine Brake YES Transmission Make Eaton-Fuller Transmission Model FAOM -16810S-EP3 Transmission Speed 10 Speed Auto Paccar 40,000 lb. Rear Axle Ratio 2.64 Kenworth Air Glide 40,000  \\tRear Suspension w/ Dump Value \\tFontaine Air Slide Fifth Wheelires w/ Polished Outer Aluminum Wheels \\tDual 100 Gallon Aluminum Fuel Tanks \\tPower Windows and Mirrors \\tPremium High Back Air Seats \\tKW Idle HVAC System w/Espar \\tAux Heater in Sleeper \\tKW Radio W/AM/WB/CB/USB w/ Bluetooth \\t76” Condo Double Bunk Sleeper   HEC LEASING, LLC Call Gary, Russ or Clay at 888-366-1571  2016 PETERBILT 579 80 INCH DOUBLE BUNKS 2 Year / 250,000 Mile Peterbilt Factory Engine Warranty Engine Make PACCAR Engine Model MX-13 Engine HP 455 Engine Brake YES Transmission Make Eaton-Fuller Transmission Model FAOM -15810S-EP3 Transmission Speed Auto Sleeper 80 Inch Suspension Peterbilt Low Air Leaf Front Axle Cap 12300 Rear Axle Cap 40000 Rear End 2.64 Wheelbase 228 Front Wheels Aluminum Rear Wheels Aluminum Tire Size Low Pro 22.5 A/C Yes Powersteering Yes Cab Configuration  Conventional Color Red Interior Premier Frame  Steel Fifth Wheel Air Slide Rear Axles 2 Tank 1 100 Tank 2 100 Engine Serial Y072947 RPM 1700 Identification Vinyl Stickers  HEC LEASING, LLC Call Gary, Russ or Clay at 888-366-1571  AUTOMATIC TRANSMISSIONS!!!  We make financing decisions IN HOUSE! Low weekly rates! We make equipment acquisition easy & affordable. We offer flexible financing, and it is our mission to provide you with a transportation solution that meets your hauling needs and fits within your budget. Our lease-to-own arrangements are designed to making acquiring a truck as painless as possible. We are a small, family-oriented company that provides the personalized service you need to ensure you are acquiring the right truck under the right terms. Leasing is a great way to get your small business off the ground or quickly add capacity to your current operations.  To learn more about our truck leasing and financing services, contact us today.  To learn more about our truck leasing and financing services, contact us today  call one of our Salesman – Gary Carrigan, Russ Carrigan or Clay Britt at 888-366-1571!                                                       *DUMP TRUCK* *dump trucks* *dump* *volteo* dump truck, volteo, Freightliner International Ford Peterbilt Kenworth Mack trucks, tandem axle tri quad 5 , trucks for sale, Dumps, Tipper earth moving dumper, dumper truck business, financing, financing with bad credit, warren ox body dumps, local sale near me, Spanish dump, Volteo, mack volquete, volteo en venta, camion para movimiento de tierra, volquetes camiones tierraen mover volteos, VOLTEO, a la volteos volquetas, remolque, remolques, basculante, escombors Categories of sleeper semi 18 wheeler heavy duty Cab & Chassis Trucks, Conventional Trucks Sleeper, without Crane Dump Flatbed Garbage Glider Kit Tank Asphalt tank Gasoline Fuel Septic Vacuum Water Roll-Offs, Roll-Off Truck, Roll off Off Pumper SPANISH con dormitorio, camiones, carretera, camabajas, agua, petroleo, uso, florida, miami, exportacion importacion, importacion exportacion, usa, Camiones volvo mack, volvo, dealer camioneros, venta tracto tractomulas, mulas, bolteos, bolteo, se vende Septicos septico, septicos, tanques septico For Sleeper pump vacuum bomba, succion, septic Roll-Offs Truck Models, 108SD, 114SD, 122SD, ARGOSY, BUSINESS CLASS M2 106, 106V, 112, CASCADIA 113, 125, COLUMBIA 120, CORONADO 114, 122, 122 SD, FL60, FL70, FL80, FL106, FL112, FLC112, FLC120, FLD112, FLD120, FLD120 CLASSIC, FLD132 CLASSIC XL, 900, 1854, 1910, 1954, 1955, 2254, 2350G, 2500, 2524, 2554, 2574, 2574S, 2575, 2674, 2674SF, 4200, 4300, 4300 EAGLE, SBA, 4400, 4400 4600, 4700, 4800, 4900, 4900DT, 4954, 5000, 5500i, 5600, 5600i, 5900, 5900i, 5900i 7300, 7400, 7400 SFA, 7500, 7500 7600, 7600 7700, 8100, 8200, 8300, 8500, 8600, 8600 9000, 9100, 9200, 9200i, 9200i 9300, 9300 9370, 9400, 9400 9400i, 9900 9900i, ACCO 1850D, DURASTAR F1954, F2070A, F2375, F2554, F2574, F2575, F2674, F4370, F5070, F9370, FLEETSTAR 2000, G2604, HX515, HX520, HX615, HX620, LOADSTAR 1600, PAYSTAR 5500, PROSTAR, PROSTAR+, S1600, S1754, S1900, S1954, S2500, S2574, S2600, TRANSTAR, TRANSTAR WORKSTAR C500, C510, C550, K123, T270, T300, T330, T359, T370, T404, T440, T470, T600, T600A, T660, T800, T800B, T800W, T880, W900, W900A, W900B, W900L, W900S, W923, 300, 330, 335, 337, 340, 348, 357, 357SB, 358, 359, 359A, 359EXHD, 359S, 365, 367, 375, 377, 378, 378SB, 379, 379EXHD, 382, 384, 385, 386, 388, 389, 567, 579, 587, Volvo ACL64, ACL64B, ACL64BT, F12, FH500, FL626, FM7, FM9, FM12, FM380, FM440, FM480, FMX460, N1225, NH12, VHD42B200, VHD62B200, VHD62F200, VHD64B200, VHD64BT430, VHD64F200, VHD64FT200, VHD84B200, VHD84F200, VHD86B200, VHD104B200, VHD124F200, VNL64300, VNL64T300, VNL64T430, VNM42T200, VNM64T200, WCA64, WG42, WG64, WG64F, WG64T, WG64B, WIA64, WIA64T, WX42, Western Star 490, 3864S, 4700SB, 4700SF, 4764T, 4800FX, 4842, 4864F, 4900EX, 4900FA, 4900FX, 4900SA, 4900SB, 4900SF, 4964, 4964EX, 4964F, 4964FX, 4964SA, 5964S, 6900XD, 600, B60LS, B75, CH600, CH612, CH613, CH688R, CHN613, CL613, CL700, CL713, CL733, CL753, DM60, DM237, DM600, DM600GK, DM607S, DM685, DM685S, DM685SX, DM686, DM686S, DM686SX, DM688, DM688S, DM688SX, DM690, DM690S, DM800, DM809SX, DMM685, GRANITE, GRANITE CT713, CTP713, CTP713B, CU713, CV513, CV533, CV703, CV712, CV713, GU432, GU433, GU533, GU703, GU712, GU713, GU813, GU813E, METRO LINER, MIDLINER, MIDLINER CS200, CS200P, CS250P, CS300P, MS300, MRU613, PINNACLE, PINNACLE CHU613, CXP612, CXP613, CXU612, CXU613, R68ST, R487P, R600, R609, R685, R685ST, R685T, R686, R686LST, R686ST, R686SX R686T, R688, R688LST, R688S, R688ST, R690, R690S, R719S, R747ST, RB600, RB688, RB688S, RB688SX RB690S, RB690SX,Mack RD600, RD600GK RD668ST, RD685, RD685S, RD685ST, RD686, RD686 RD686LS, RD686S, RD686SX, RD688, RD688D, RD688P, RD688S RD688ST, RD688SX RD690, RD690P,Mack RD690S, RD690ST, RD822SX, RD854, RD890SX, RD960S, RM6864X, RS686, SUPERLINER, SUPERLINER RW613, RW633, RW713, RWS786LST, TRIDENT, VISION, VISION CX612, CX613, CXN612 CXN613, Used used Volteo usado, volquete usados, tierra Freightliner, International, Peterbilt, Kenworth, Mack, Sterling, Star, Freightliners, Internationals, Peterbilts, Kenworths, Sterlings, Stars, Sterling Mixer Concrete Sewer Rodder Tow Roll-Back pumper grapple bomba succion tipper freightliners macks Peterbilts kenworths internationals sewer cleaning, liquid waste disposal, tanks, tanker septic, FINANCING tractor trailer buy here pay here, in house trucker day cab terrible credit no check zero Financiamiento financiamiento sin documentos, visa, ilegales, venezolanos documentos Porta potty, hydroexcavation equipment, waste, pumper, water recycling, jetters, rodder, rodding guzzler, jet/vac, loader, wet/dry tank, industrial, services, plumbing industrial portable sanitation disposal grease 1500 gallon 2000 2500 2600 2650 3400 4000 5000 steel magazine, craigslist, com, magazine classifieds, vac by owner, Keywords:lifted rough country treadwright ford, f150 f 150 f-150 f250 250 f-250 f350 350 f-350 f450 450 f-450 f550 550 f-550, f650 F eseries e-series e series cargo van extended SB SMALL BED LB LONG XL XLT Super Duty Lariat King Ranch Sierra Denali,escalade Silverado expedition excursion tahoe Yukon LT SLT 2500HD 1500HD 3500 3500HD Power Stroke 5.7 6.0 6.4 6.7 7.3 Hemi Turbo Diesel, Diesel duramax lifted offroad, freedomway, freedomway trailers flatbed flat bed stepdeck step deck dropdeck drop ,trucks lowboy big rig kenworth kw t660 t680 t700 t600 t800 t880 t2000 w900 w990 w900l ,t660 t300, international prostar lonestar 9200 9900i ,vnl630 ,vnl660 vnl670 vnl780 vnl730 freightliner fld112 fld120 fld132 fld132xl cl120 flc120 columbia, century, coronado cascadia evolution classic classicxl condo peterbilt 379 378 387 377 386 388 389 348 cx613 ch613 vision midroof flattop utility ,Freightliner, Owner, Operator, Over the Road, Trucking, Drivers, Semi, Day Cab, Cascadia, Pete, KW, Peterbuilt, Classic Semi Tractors, 579 578 Cummins, Detroit, Detroit CAT, C15, C13 C12 Caterpillar, Cabs, Day-cab, Raised Roof, Midroof, Box Tandem axle, Semi-tractor, Drive Tandem, VNL670, VNL780, VNL630, VNL730, VNL430, Century, Columbia, Coronado 12.7 Cummins n14 d12 d13, isx, t2000, t600, t660, t680, t700,t800, Cascadia classic, Coronado,freightliner fld, m2, isx cummins ism swap 4x4 diesel dd15 detroit litter 60, dd13, manual transmission, auto, automatic, dt12, ishift, i-shift integrated powertrain, DT12 pete ken worth w900, M2, DD15, UD 2600, T680 Volvo, liftgate lift gate, d13 reefer dry car hauler, box transmission auto automatic dt12 ishift powertrain    133\n",
      "                                                                                                                                                                                                                                                                                                                                                                                                                                                                                                                                                                                                                                                                                                                                                                                                                                                                                                                                                                                                                                                                                                                                                                                                                                                                                                                                                                                                                                                                                                                                                                                                                                                                                                                                                                                                                                                                                                                                                                                                                                                                                                                                                                                                                                                                                                                                                                                                                                                                                                                                                                                                                                                                                                                                                                                                                                                                                                                                                                                                                                                                                                                                                                                                                                                                                                                                                                                                                                                                                                                                                                                                                                                                                                                                                                                                                                                                                                                                                                                                                                                                                                                                                                                                                                                                                                                                                                                                                                                                                                                                                                                                                                                                                                                                                                                                                                                                                                                                                                                                                                                                                                                                                                                                                                                                                                                                                                                                                                                                                                                                                                                                                                                                                                                                                                                                                                                                                                                                                                                                                                                                                                                                                                                                                                                                                                                                                                                                                                                                                                                                                                                                                                                                                                                                                                                                                                                                                                                                                                                                                                                                                                                                                                                                                                                                                                                                                                                                                                                                                                                                                                                                                                                                                                                                                                                                                                                                                                                                                                                                                                                                                                                                                                                                                                                                                                                                                                                                                                                                                                                                                                                                                                                                                                                                                                                                                                                                                                                                                                                                                                                                                                                                                                                                                                                                                                                                                                                                                                                                                                                                                                                                                                                                                                                                                                                                                                                                                                                                                                                                                                                                                                                               ... \n",
      "Why Buy From Sherman Dodge?At Sherman Dodge we strive to provide outstanding professional service in all areas of our Skokie Chrysler Dodge Jeep RAM dealership. We are proud to present new models and are confident we can find the new car, truck, van, or SUV of your dreams. If you are in the market for a used car in Skokie, look no further! At Sherman Dodge Chrysler Jeep, we stock a large amount of high quality used cars to serve the Chicago, Evanston, Park Ridge, Niles and Arlington Heights region. We are proud to have certified and pre-owned vehicles ready for you to test drive today. Stock# 212873815-332-0491 - Call now for your best deal!For all details on this vehicle, visit:http://cardetails.manmarketing.com/6795645-77546 Vehicle OverviewTrim: TRX pickup Mileage: 10 Exterior Color: Anvil Clearcoat Interior Color: Black Engine: HEMI Drive:  Transmission: 8-Speed Automatic VIN:  1C6SRFU90MN903355Seller Comments: Recent Arrival! Anvil Clearcoat 2021 Ram 1500 TRX Launch Edition- 4WD 8-Speed Automatic HEMI 3.55 Rear Axle Ratio.Call for price.4 Way Front Headrests, Adaptive Cruise Control w/Stop & Go, Blind Spot & Cross Path Detection, Body Color Door Handles, Bucket Seats, Dome Dual LED Reading Lamp, Driver Seat Memory, Driver/Passenger Wrapped Assist Handles, Dual-Pane Panoramic Sunroof, Engine Block Heater, Exterior Mirrors w/Memory, Front Door Accent Lighting, Full Length Premium Upgraded Floor Console, harman/kardon 19 Speaker Premium Sound, Heads-Up Display, Heated Front Seats, Heated Second Row Seats, Heated Steering Wheel, IP LED Ambient Light Pipe, Leather Trimmed Bucket Seats, Leather/Suede Flat-Bottom Steering Wheel, Luxury Front Door Trim Panel, MOPAR Deployable Bed Step, MOPAR Spray In Bedliner, MOPAR TRX Exterior Graphics, MOPAR TRX Hood Graphics, ParkSense Front/Rear Park Assist w/Stop, ParkView Rear Back-Up Camera, Pick-Up Box Lighting, Power 4-Way Driver Lumbar Adjust, Power 4-Way Passenger Lumbar Adjust, Power 8-Way Driver & Passenger Seats, Power Adjustable Pedals w/Memory, Premium Wrapped IP Bezel, Radio/Driver Seat/Mirrors/Pedals Memory, Radio: Uconnect 12 w/Navigation, Rain Sensitive Windshield Wipers, Rear 60/40 Folding Split Recline Seat, Rear Door Accent Lighting, Rear Underseat Compartment Storage, Rear Window Defroster, Remote Proximity Keyless Entry, Remote Start System, Remote Tailgate Release, Sun Visors w/Illuminated Vanity Mirrors, Surround View Camera System, Trailer Brake Control, Trailer Light Check, Trailer Tire Pressure Monitoring System, Trailer Tow Group, Tri-Fold Tonneau Cover, TRX Launch Edition Console Badge, TRX Level 2 Equipment Group, TRX Red Interior Accents, Universal Garage Door Opener, Ventilated Front Seats, Ventilated Rear Seats, Wireless Charging Pad.Awards:  * Motor Trend Automobiles of the yearAt Sherman Dodge Chrysler Jeep RAM ProMaster.We help customers get vehicle loans that fit their budget, enabling them to drive away with a new or used vehicle.Regardless of your credit status, we can help.No credit or bad credit? No problem !! Come to 7601 N Skokie Blvd, and meet with our financial professionals.An affordable car loan or lease is within reach at Sherman Dodge Chrysler Jeep RAM ProMaster.Sherman Dodge Chrysler Jeep RAM ProMaster, Proudly Serving Skokie, Chicago, Arlington Heights, Park Ridge, Evanston and Niles, Offers More Than Just Friendly Service.All incentives and discounts are applied and are available to all consumers.Residency restrictions apply.Prices EXCLUDE tax, license, title and documentation fee.See dealer for details.Special finance in lieu of rebates for well qualified buyers.By appointment only. To request a price quote, visit:http://cardetails.manmarketing.com/6795645-77546 *CALL* or *TEXT* us to see how we can help you finance this Ram 1500TRX!Mention you saw STOCK #212873 on Craigslist for a great deal: 815-332-0491Standard Features10 Speakers2-stage unlocking doors3.55 Rear Axle Ratio4 Way Front Headrests4-Wheel Disc Brakes4WD selector (electronic hi-lo)4WD type (full time)ABS (4-wheel)ABS brakesAM/FM radio: SiriusXM with 360LActive grille shuttersActive suspensionAdaptive suspensionAir ConditioningAir filtrationAirbag deactivation (occupant sensing passenger)Alloy wheelsAlternator (250 amps)Ambient lightingAntenna type (diversity) Disclaimer: While every reasonable effort is made to ensure the accuracy of the information for this Ram 1500TRX, we are not responsible for any errors or omissions contained in this ad. Please verify any information in question with Sherman Dodge at 815-332-0491*Ram* *1500TRX* 2022  2021  2020  2019  2018  2017  2016  2015  2014  2013  2012  2011  2010  2009  2008  2007  2006  2005  2004  2003  2002  2001  2000   22  21    19  18  17  16  15  14  13  12  11  10  09  08  07  06  05  04  03  02  01  00                                                                                                                                                                                                                                                                                                                                                                                                                                                                                                                                                                                                                                                                                                                                                                                                                                                                                                                                                                                                                                                                                                                                                                                                                                                                                                                                                                                                                                                                                                                                                                                                                                                                                                                                                                                                                                                                                                                                                                                                                                                                                                                                                                                                                                                                                                                                                                                                                                                                                                                                                                                                                                                                                                                                                                                                                                                                                                                                                                                                                                                                                                                                                                                                                                                                                                                                                                                                                                                                                                                                                                                                                                                                                                                                                                                                                                                                                                                                                                                                                                                                                                                                                                                                                                                                                                                                                                                                                                                                                                                                                                                                                                                                                                                                                                                                                                                                                                                                                                                                                                                                                                                                       1\n",
      "*** WARRANTY INCLUDED *** a nice Pickup that had FOUR DOORS - power windows, power locks, and alloy wheels - it even has a bed liner with cover - runs and looks GREAT - we feel that this BEAUTY was WELL CARED FOR and it shows!! - a lot of life left - the six cylinder motor will SAVE $$$ ON GAS - seriously, no need to spend more somewhere else!!! - these trucks are getting harder to find in GOOD SHAPE - CALL TODAY (please) - check out CARSMARTSALES.COM for our others - price includes a MOTOR AND TRANSMISSION WARRANTY for your peace of mind - FOR DETAILS ASK FOR DAVE HOFFMANN AT CARSMARTSALES.COM OR 815-877-7500 - don't forget to view the FREE CARFAX REPORT by clicking the CARFAX logo                                                                                                                                                                                                                                                                                                                                                                                                                                                                                                                                                                                                                                                                                                                                                                                                                                                                                                                                                                                                                                                                                                                                                                                                                                                                                                                                                                                                                                                                                                                                                                                                                                                                                                                                                                                                                                                                                                                                                                                                                                                                                                                                                                                                                                                                                                                                                                                                                                                                                                                                                                                                                                                                                                                                                                                                                                                                                                                                                                                                                                                                                                                                                                                                                                                                                                                                                                                                                                                                                                                                                                                                                                                                                                                                                                                                                                                                                                                                                                                                                                                                                                                                                                                                                                                                                                                                                                                                                                                                                                                                                                                                                                                                                                                                                                                                                                                                                                                                                                                                                                                                                                                                                                                                                                                                                                                                                                                                                                                                                                                                                                                                                                                                                                                                                                                                                                                                                                                                                                                                                                                                                                                                                                                                                                                                                                                                                                                                                                                                                                                                                                                                                                                                                                                                                                                                                                                                                                                                                                                                                                                                                                                                                                                                                                                                                                                                                                                                                                                                                                                                                                                                                                                                                                                                                                                                                                                                                                                                                                                                                                                                                                                                                                                                                                                                                                                                                                                                                                                                                                                                                                                                                                                                                                                                                                                                                                                                                                                                                                                                                                                                                                                                                                                                                                                                                                                                                                                                               1\n",
      "2008 FORD RANGER Cash Special! $4000 Perfect time to cash in on this 2008 Ford Ranger!     Vehicle Information  Make: FORD Model: RANGER Trim:  Exterior Color: WHITE Engine: 2.3L Fuel: Gasoline Transmission: Automatic Drive: RWD Miles: 140,749 VIN: 1FTYR10D98PA53316 Stock #: 13671    Dealership Info Come to  CARLYLE AUTO 151 S Alpine Rd Rockford, IL 61108  or call Penny at  Phone: 815-398-5010  Price:   $4,000.00       Features Air Conditioning; Available; Power Steering; Available; AM/FM; AM/FM CD/MP3; Satellite; Passive engine immobilizer; Available; Dual Front Airbags; Passenger Sensor; Active Belts; Conventional Cab; Regular Bed; All Wheel ABS; 1/2 Ton        CARLYLE AUTO    2008 FORD RANGER - Stock # 13671 Offered by: CARLYLE AUTO 22921-13671-80443-5385949                                                                                                                                                                                                                                                                                                                                                                                                                                                                                                                                                                                                                                                                                                                                                                                                                                                                                                                                                                                                                                                                                                                                                                                                                                                                                                                                                                                                                                                                                                                                                                                                                                                                                                                                                                                                                                                                                                                                                                                                                                                                                                                                                                                                                                                                                                                                                                                                                                                                                                                                                                                                                                                                                                                                                                                                                                                                                                                                                                                                                                                                                                                                                                                                                                                                                                                                                                                                                                                                                                                                                                                                                                                                                                                                                                                                                                                                                                                                                                                                                                                                                                                                                                                                                                                                                                                                                                                                                                                                                                                                                                                                                                                                                                                                                                                                                                                                                                                                                                                                                                                                                                                                                                                                                                                                                                                                                                                                                                                                                                                                                                                                                                                                                                                                                                                                                                                                                                                                                                                                                                                                                                                                                                                                                                                                                                                                                                                                                                                                                                                                                                                                                                                                                                                                                                                                                                                                                                                                                                                                                                                                                                                                                                                                                                                                                                                                                                                                                                                                                                                                                                                                                                                                                                                                                                                                                                                                                                                                                                                                                                                                                                                                                                                                                                                                                                                                                                                                                                                                                                                                                                                                                                                                                                                                                                                                                                                                                                                                                                                                                                                                                                                                                                                                                                                                                                                               1\n",
      "No Money Down Auto Loans!Answer 5 easy questions at www.guaranteed-auto-credit.comBAD CREDIT OK - PAST REPO OKNO CREDIT? NO COSIGNER?NO PROBLEM0 Money Down + ID or License + Your Pay Stub = a 2014-2020 car or truck for you todayLike this: 2018 Ram 1500VEHICLE INFORMATIONYear: 2018Make: RamModel: 1500Body Style: 4D Crew Cab  Exterior: Granite Crystal Metallic ClearcoatDrivetrain: 4WDTrans: 8-Speed AutomaticEngine: HEMI 5.7L V8 Multi Displacement VVTMonthly Payment: $569To Get Approved Now Answer 5 Simple Questions. www.guaranteed-auto-credit.com-If not clickable, please copy and place website above into your browser-MATRICULA, ITIN, MAL O NO CREDITOwww.ManejeHoyMismo.com=================================Zeigler Automotive2501 Ogden AveDowners Grove, Illinois 60515CALL or TEXT 630-934-6525We can help everybody get a NO MONEY DOWN AUTO LOAN TODAY, even if you have made past mistakes. Answer 5 Easy Questions at  www.guaranteed-auto-credit.com to get approved today!We specialize in helping with:•Bad Credit •Good Credit •No Credit •Repossession •Low Income •Cash Job •Unemployment •Dissability •Bankruptcy •SSI Income •Forclosures •JudgementsLocated 15 miles or less from the following cities and zip codes:LISLE 60532WESTMONT 60559CLARENDON HILLS 60514GLEN ELLYN 60137DOWNERS GROVE 60516OAK BROOK 60523LOMBARD 60148FOX VALLEY 60599HINSDALE 60522GLEN ELLYN 60138DARIEN 60561WOODRIDGE 60517HINSDALE 60521WHEATON 60189VILLA PARK 60181WHEATON 60187NAPERVILLE 60540NAPERVILLE 60567NAPERVILLE 60566WESTERN SPRINGS 60558WILLOWBROOK 60527ELMHURST 60126NAPERVILLE 60565NAPERVILLE 60563HILLSIDE 60162WESTCHESTER 60154GLENDALE HEIGHTS 60139WINFIELD 60190CAROL STREAM 60199BERKELEY 60163BOLINGBROOK 60440ADDISON 60101LA GRANGE PARK 60526CAROL STREAM 60188CAROL STREAM 60197CAROL STREAM 60128CAROL STREAM 60132CAROL STREAM 60116WARRENVILLE 60555BELLWOOD 60104LEMONT 60439LA GRANGE 60525BROOKFIELD 60513BROADVIEW 60155BLOOMINGDALE 60117WILLOW SPRINGS 60480STONE PARK 60165BLOOMINGDALE 60108MELROSE PARK 60164WEST CHICAGO 60186AURORA 60598RIVERSIDE 60546SUMMIT ARGO 60501MELROSE PARK 60160HINES 60141MAYWOOD 60153LYONS 60534JUSTICE 60458MELROSE PARK 60161BOLINGBROOK 60490WOOD DALE 60399BENSENVILLE 60105WOOD DALE 60191ITASCA 60143WEST CHICAGO 60185EOLA 60519MEDINAH 60157BENSENVILLE 60106FRANKLIN PARK 60131NAPERVILLE 60564FOREST PARK 60130AURORA 60572CHICAGO 60682ROSELLE 60172AURORA 60504HICKORY HILLS 60457AURORA 60502RIVER FOREST 60305SCHAUMBURG 60196BERWYN 60402RIVER GROVE 60171ROMEOVILLE 60446BRIDGEVIEW 60455PLAINFIELD 60585HANOVER PARK 60133PALOS HILLS 60465PALOS PARK 60464OAK PARK 60301OAK PARK 60304SCHILLER PARK 60176*Payments are based on approved credit with 6.9 APR for 84 months plus tax, title, & license. Offer ends April 30th, 2021. See dealer for additional details.                                                                                                                                                                                                                                                                                                                                                                                                                                                                                                                                                                                                                                                                                                                                                                                                                                                                                                                                                                                                                                                                                                                                                                                                                                                                                                                                                                                                                                                                                                                                                                                                                                                                                                                                                                                                                                                                                                                                                                                                                                                                                                                                                                                                                                                                                                                                                                                                                                                                                                                                                                                                                                                                                                                                                                                                                                                                                                                                                                                                                                                                                                                                                                                                                                                                                                                                                                                                                                                                                                                                                                                                                                                                                                                                                                                                                                                                                                                                                                                                                                                                                                                                                                                                                                                                                                                                                                                                                                                                                                                                                                                                                                                                                                                                                                                                                                                                                                                                                                                                                                                                                                                                                                                                                                                                                                                                                                                                                                                                                                                                                                                                                                                                                                                                                                                                                                                                                                                                                                                                                                                                                                                                                                                                                                                                                                                                                                                                                                                                                                                                                                                                                                                                                                                                                                                                                                                                                                                                                                                                                                                                                                                                                                                                                                   1\n",
      "Carvana is the safer way to buy a car During these uncertain times, Carvana is dedicated to ensuring safety for all of our customers. In addition to our 100% online shopping and selling experience that allows all customers to buy and trade their cars without ever leaving the safety of their house, we’re providing touchless delivery that make all aspects of our process even safer. Now, you can get the car you want, and trade in your old one, while avoiding person-to-person contact with our friendly advocates. There are some things that can’t be put off. And if buying a car is one of them, know that we’re doing everything we can to keep you keep moving while continuing to put your health safety, and happiness first. Vehicle Stock# 2000909942📱 Want to instantly check this car’s availability? Call us at  307-215-1645Just text that stock number to 855-976-4304 or head to http://www.carvanaauto.com/6827369-75173 and plug it into the search bar!Get PRE-QUALIFIED for your auto loan in 2 minutes - no hit to your credit:http://finance.carvanaauto.com/6827369-75173Looking for more cars like this one? We have 115 BMW 4 Series in stock for as low as $17990!Why buy with Carvana? We have one standard: the highest. Take a look at just some of the qualifications all of our cars must meet before we list them.150-POINT INSPECTION: We put each vehicle through a 150-point inspection so that you can be 100% confident in its quality and safety. See everything that goes into our inspections at:http://www.carvanaauto.com/6827369-75173NO REPORTED ACCIDENTS: We do not sell cars that have been in a reported accident or have a frame or structural damage.7 DAY TEST OWN MONEY BACK GUARANTEE: Every Carvana car comes with a 7-day money-back guarantee. Why? It takes more than 15-minutes to make a decision on your next car. Learn more about test owning at http://about.carvanaauto.comFLEXIBLE FINANCING, TRADE INS WELCOME: We’re all about real-time financing without the middle man. Need financing? Pick a combination of down and monthly payments that work for you. Have a trade-in? We’ll give you a value in 2 minutes. Check out everything about our financing at:http://finance.carvanaauto.com/6827369-75173COST SAVINGS: Carvana's business model has fewer expenses and no bloated fees compared to your local dealership. See how much we can save you at http://about.carvanaauto.comPREMIUM DETAIL: We go the extra mile so that your car is looking as good as new. There are a lot of specifics that we won’t list here (we wash, clean, buff, paint, polish, wax, seal), but trust us that when your car arrives, it’s going to look sweet.Vehicle Info for Stock# 2000909942Trim: 430i Gran Coupe Sedan 4D coupeMileage: 22k milesExterior Color: GrayInterior Color: BLACKEngine: 2.0L Turbo I4 248hp 258ft. lbs.Drive: rwdTransmission: VIN: WBA4J1C58KBM14708Dealer Disclosure: Price excludes tax, title, and registration (which we handle for you).Disclaimer: You agree that by providing your phone number, Carvana, or Carvana’s authorized representatives*, may call and/or send text messages (including by using equipment to automatically dial telephone numbers) about your interest in a purchase, for marketing/sales purposes, or for any other servicing or informational purpose related to your account. You do not have to consent to receiving calls or texts to purchase from Carvana. While every reasonable effort is made to ensure the accuracy of the information for this BMW 4 Series, we are not responsible for any errors or omissions contained in this ad. Please verify any information in question with Carvana at 307-215-1645*Including, but not limited to, Bridgecrest Credit Company, GO Financial and SilverRock Automotive.*BMW* *4* *Series* *i* *2* *BMW* *4* *Series* *i2* *BMW* *4* *Series* *ix* *BMW* *4* *Series* *i* *x* *Rear* *Wheel* *drive* *Coupe* *BMW* *4* *Series* *All-* *Wheel* *Drive* *Convertible* 2022  2021  2020  2019  2018  2017  2016  2015  2014  2013  2012  2011  2010  2009  2008  2007  2006  2005  2004  2003  2002  2001  2000   22  21    19  18  17  16  15  14  13  12  11  10  09  08  07  06  05  04  03  02  01  00                                                                                                                                                                                                                                                                                                                                                                                                                                                                                                                                                                                                                                                                                                                                                                                                                                                                                                                                                                                                                                                                                                                                                                                                                                                                                                                                                                                                                                                                                                                                                                                                                                                                                                                                                                                                                                                                                                                                                                                                                                                                                                                                                                                                                                                                                                                                                                                                                                                                                                                                                                                                                                                                                                                                                                                                                                                                                                                                                                                                                                                                                                                                                                                                                                                                                                                                                                                                                                                                                                                                                                                                                                                                                                                                                                                                                                                                                                                                                                                                                                                                                                                                                                                                                                                                                                                                                                                                                                                                                                                                                                                                                                                                                                                                                                                                                                                                                                                                                                                                                                                                                                                                                                                                                                                                                                                                                                                                                                                                                                                                                                                                                                                                                                                                                                                                                               1\n",
      "Name: description, Length: 360911, dtype: int64\n",
      "Series([], Name: county, dtype: int64)\n",
      "ca    50614\n",
      "fl    28511\n",
      "tx    22945\n",
      "ny    19386\n",
      "oh    17696\n",
      "or    17104\n",
      "mi    16900\n",
      "nc    15277\n",
      "wa    13861\n",
      "pa    13753\n",
      "wi    11398\n",
      "co    11088\n",
      "tn    11066\n",
      "va    10732\n",
      "il    10387\n",
      "nj     9742\n",
      "id     8961\n",
      "az     8679\n",
      "ia     8632\n",
      "ma     8174\n",
      "mn     7716\n",
      "ga     7003\n",
      "ok     6792\n",
      "sc     6327\n",
      "mt     6294\n",
      "ks     6209\n",
      "in     5704\n",
      "ct     5188\n",
      "al     4955\n",
      "md     4778\n",
      "nm     4425\n",
      "mo     4293\n",
      "ky     4149\n",
      "ar     4038\n",
      "ak     3474\n",
      "la     3196\n",
      "nv     3194\n",
      "nh     2981\n",
      "dc     2970\n",
      "me     2966\n",
      "hi     2964\n",
      "vt     2513\n",
      "ri     2320\n",
      "sd     1302\n",
      "ut     1150\n",
      "wv     1052\n",
      "ne     1036\n",
      "ms     1016\n",
      "de      949\n",
      "wy      610\n",
      "nd      410\n",
      "Name: state, dtype: int64\n",
      "33.779214    3301\n",
      "43.182400    2666\n",
      "40.468785    2346\n",
      "33.786500    2341\n",
      "46.234838    1866\n",
      "             ... \n",
      "29.016844       1\n",
      "35.143705       1\n",
      "35.249000       1\n",
      "35.123981       1\n",
      "43.642930       1\n",
      "Name: lat, Length: 53181, dtype: int64\n",
      "-84.411811     3301\n",
      "-84.112200     2666\n",
      "-74.281707     2346\n",
      "-84.445400     2341\n",
      "-119.128015    1866\n",
      "               ... \n",
      "-85.686734        1\n",
      "-85.656238        1\n",
      "-85.570107        1\n",
      "-85.696535        1\n",
      "-108.222976       1\n",
      "Name: long, Length: 53772, dtype: int64\n",
      "2021-04-23T22:13:05-0400    12\n",
      "2021-04-13T13:19:15-0500    11\n",
      "2021-04-22T20:32:05-0400    11\n",
      "2021-04-16T12:07:56-0500    10\n",
      "2021-04-29T20:06:09-0500     9\n",
      "                            ..\n",
      "2021-04-05T12:01:13-0500     1\n",
      "2021-04-05T13:57:52-0500     1\n",
      "2021-04-05T14:28:08-0500     1\n",
      "2021-04-05T14:33:37-0500     1\n",
      "2021-04-04T03:21:07-0600     1\n",
      "Name: posting_date, Length: 381536, dtype: int64\n"
     ]
    }
   ],
   "source": [
    "for column in data.columns:\n",
    "    print(data[column].value_counts())"
   ]
  },
  {
   "cell_type": "markdown",
   "id": "2c6b2fc3",
   "metadata": {},
   "source": [
    "# 2.  Data preparation"
   ]
  },
  {
   "cell_type": "code",
   "execution_count": 3,
   "id": "f87a3bd9",
   "metadata": {},
   "outputs": [],
   "source": [
    "columns = ['price', 'year', 'manufacturer', 'condition',\n",
    "'cylinders', 'odometer', 'fuel',\n",
    "'transmission', 'drive', 'type', 'paint_color',\n",
    "'size','model']\n"
   ]
  },
  {
   "cell_type": "code",
   "execution_count": 4,
   "id": "e46df8ae",
   "metadata": {
    "scrolled": true
   },
   "outputs": [
    {
     "data": {
      "text/plain": [
       "(79195, 13)"
      ]
     },
     "execution_count": 4,
     "metadata": {},
     "output_type": "execute_result"
    }
   ],
   "source": [
    "data = data[columns]\n",
    "data = data.dropna()\n",
    "data.shape"
   ]
  },
  {
   "cell_type": "code",
   "execution_count": 5,
   "id": "a038a8e5",
   "metadata": {},
   "outputs": [],
   "source": [
    "data_old = data.copy()"
   ]
  },
  {
   "cell_type": "code",
   "execution_count": 9,
   "id": "503064ff",
   "metadata": {
    "scrolled": true
   },
   "outputs": [
    {
     "data": {
      "text/plain": [
       "excellent    39482\n",
       "good         25320\n",
       "like new     10603\n",
       "fair          3006\n",
       "new            539\n",
       "salvage        245\n",
       "Name: condition, dtype: int64"
      ]
     },
     "execution_count": 9,
     "metadata": {},
     "output_type": "execute_result"
    }
   ],
   "source": [
    "data['condition'].value_counts()"
   ]
  },
  {
   "cell_type": "code",
   "execution_count": 5,
   "id": "b1848f42",
   "metadata": {},
   "outputs": [
    {
     "data": {
      "text/plain": [
       "array(['excellent', 'good', 'new', 'salvage'], dtype=object)"
      ]
     },
     "execution_count": 5,
     "metadata": {},
     "output_type": "execute_result"
    }
   ],
   "source": [
    "# grouping like new with excellent and fair with good\n",
    "data['condition'] = data['condition'].replace(['like new'], 'excellent')\n",
    "data['condition'] = data['condition'].replace(['fair'], 'good')\n",
    "data['condition'].unique()"
   ]
  },
  {
   "cell_type": "markdown",
   "id": "508a6cfc",
   "metadata": {},
   "source": [
    "# Removing Outliers"
   ]
  },
  {
   "cell_type": "code",
   "execution_count": 20,
   "id": "433d2036",
   "metadata": {
    "scrolled": false
   },
   "outputs": [
    {
     "data": {
      "text/plain": [
       "<AxesSubplot:xlabel='year', ylabel='price'>"
      ]
     },
     "execution_count": 20,
     "metadata": {},
     "output_type": "execute_result"
    },
    {
     "data": {
      "image/png": "[encoded data removed]",
      "text/plain": [
       "<Figure size 432x288 with 1 Axes>"
      ]
     },
     "metadata": {
      "needs_background": "light"
     },
     "output_type": "display_data"
    }
   ],
   "source": [
    "data.plot.scatter(x='year', y='price')"
   ]
  },
  {
   "cell_type": "markdown",
   "id": "b47c513a",
   "metadata": {},
   "source": [
    "Code by: Parth Chhabra https://www.kaggle.com/getting-started/189761"
   ]
  },
  {
   "cell_type": "code",
   "execution_count": 6,
   "id": "ef761678",
   "metadata": {},
   "outputs": [],
   "source": [
    "def remove_outliers(x):\n",
    "    ## storing names of columns in Column_Names\n",
    "    Column_Names=x.columns\n",
    "\n",
    "    ## importing matplotlib and seaborn for visualisation of outliers\n",
    "    import matplotlib.pyplot as plt\n",
    "    import seaborn as sns   \n",
    "\n",
    "    ## iterating through Column_Names using try and except for distinguishing between numerical and categorical columns\n",
    "    for j in Column_Names:\n",
    "        try:\n",
    "            print('Before Removing Outliers')\n",
    "\n",
    "            ##visualisation of outliers\n",
    "            a = sns.boxplot(data=x,x=x[j])\n",
    "            plt.tight_layout() \n",
    "            plt.show() \n",
    "\n",
    "            xy=x[j]    \n",
    "            mydata=pd.DataFrame()\n",
    "\n",
    "            updated=[]\n",
    "            Q1,Q3=np.percentile(xy,[25,75])\n",
    "            IQR=Q3-Q1\n",
    "            minimum=Q1-1.5*IQR\n",
    "            maximum=Q3+1.5*IQR\n",
    "\n",
    "            ## using the maximum and minimum values obtained from quartiles and inter-quartile range\n",
    "            ## any outliers greater than maximum are updated to be equal to maximum\n",
    "            ## any outliers lesser than minimum are updated to be equal to minimum\n",
    "            ## here, no outliers have been removed to prevent loss of data\n",
    "\n",
    "            for i in xy:\n",
    "                if(i>maximum):\n",
    "                    i=maximum\n",
    "                    updated.append(i)\n",
    "                elif(i<minimum):\n",
    "                    i=minimum\n",
    "                    updated.append(i)\n",
    "                else:\n",
    "                    updated.append(i)\n",
    "\n",
    "            x[j]=updated\n",
    "            print('After Removing Outliers')\n",
    "\n",
    "            ## visualising after removing outliers\n",
    "            b= sns.boxplot(data=x,x=x[j])\n",
    "            plt.tight_layout() \n",
    "            plt.show()\n",
    "\n",
    "        except:\n",
    "            continue\n",
    "\n",
    "    return x"
   ]
  },
  {
   "cell_type": "code",
   "execution_count": 8,
   "id": "06a29906",
   "metadata": {
    "scrolled": true
   },
   "outputs": [
    {
     "name": "stdout",
     "output_type": "stream",
     "text": [
      "Before Removing Outliers\n"
     ]
    },
    {
     "data": {
      "image/png": "[encoded data removed]",
      "text/plain": [
       "<Figure size 432x288 with 1 Axes>"
      ]
     },
     "metadata": {
      "needs_background": "light"
     },
     "output_type": "display_data"
    },
    {
     "name": "stdout",
     "output_type": "stream",
     "text": [
      "After Removing Outliers\n"
     ]
    },
    {
     "data": {
      "image/png": "[encoded data removed]",
      "text/plain": [
       "<Figure size 432x288 with 1 Axes>"
      ]
     },
     "metadata": {
      "needs_background": "light"
     },
     "output_type": "display_data"
    },
    {
     "name": "stdout",
     "output_type": "stream",
     "text": [
      "Before Removing Outliers\n"
     ]
    },
    {
     "data": {
      "image/png": "[encoded data removed]",
      "text/plain": [
       "<Figure size 432x288 with 1 Axes>"
      ]
     },
     "metadata": {
      "needs_background": "light"
     },
     "output_type": "display_data"
    },
    {
     "name": "stdout",
     "output_type": "stream",
     "text": [
      "After Removing Outliers\n"
     ]
    },
    {
     "data": {
      "image/png": "[encoded data removed]",
      "text/plain": [
       "<Figure size 432x288 with 1 Axes>"
      ]
     },
     "metadata": {
      "needs_background": "light"
     },
     "output_type": "display_data"
    },
    {
     "name": "stdout",
     "output_type": "stream",
     "text": [
      "Before Removing Outliers\n"
     ]
    },
    {
     "data": {
      "image/png": "[encoded data removed]",
      "text/plain": [
       "<Figure size 432x288 with 1 Axes>"
      ]
     },
     "metadata": {
      "needs_background": "light"
     },
     "output_type": "display_data"
    },
    {
     "name": "stdout",
     "output_type": "stream",
     "text": [
      "After Removing Outliers\n"
     ]
    },
    {
     "data": {
      "image/png": "[encoded data removed]",
      "text/plain": [
       "<Figure size 432x288 with 1 Axes>"
      ]
     },
     "metadata": {
      "needs_background": "light"
     },
     "output_type": "display_data"
    }
   ],
   "source": [
    "#gets rid of outliers for price, year, odometer\n",
    "columns_clean = ['price', 'year', 'odometer']\n",
    "data.loc[:,columns_clean] = remove_outliers(data.loc[:,columns_clean])"
   ]
  },
  {
   "cell_type": "code",
   "execution_count": 9,
   "id": "581463c1",
   "metadata": {},
   "outputs": [
    {
     "data": {
      "text/plain": [
       "(79195, 13)"
      ]
     },
     "execution_count": 9,
     "metadata": {},
     "output_type": "execute_result"
    }
   ],
   "source": [
    "data.shape"
   ]
  },
  {
   "cell_type": "code",
   "execution_count": 25,
   "id": "c227f63a",
   "metadata": {
    "scrolled": false
   },
   "outputs": [
    {
     "data": {
      "text/plain": [
       "<AxesSubplot:xlabel='year', ylabel='price'>"
      ]
     },
     "execution_count": 25,
     "metadata": {},
     "output_type": "execute_result"
    },
    {
     "data": {
      "image/png": "[encoded data removed]",
      "text/plain": [
       "<Figure size 432x288 with 1 Axes>"
      ]
     },
     "metadata": {
      "needs_background": "light"
     },
     "output_type": "display_data"
    }
   ],
   "source": [
    "data.plot.scatter(x='year', y='price')"
   ]
  },
  {
   "cell_type": "markdown",
   "id": "f1ac5b5a",
   "metadata": {},
   "source": [
    "# Model feature grouping"
   ]
  },
  {
   "cell_type": "markdown",
   "id": "99ac898a",
   "metadata": {},
   "source": [
    "Fuzzy String Matching\n",
    "https://towardsdatascience.com/fuzzy-string-matching-in-python-68f240d910fe"
   ]
  },
  {
   "cell_type": "code",
   "execution_count": 10,
   "id": "40ad6c76",
   "metadata": {},
   "outputs": [],
   "source": [
    "# Uses Levenshtein Distance to calculate the differences between car models and groups them\n",
    "def model_filter (manufacturer):\n",
    "    test_group = data.groupby(['manufacturer'])\n",
    "    car_models = test_group.get_group(manufacturer)\n",
    "    car_models = car_models['model'].unique()\n",
    "    car_models.sort()\n",
    "    car_models = combinations(car_models, 2)\n",
    "    for i in car_models:\n",
    "        if fuzz.token_sort_ratio(i[0],i[1]) >= 50:\n",
    "            data['model'] = data['model'].replace([i[1]], i[0])\n",
    "    return data"
   ]
  },
  {
   "cell_type": "code",
   "execution_count": 11,
   "id": "d8198536",
   "metadata": {
    "scrolled": true
   },
   "outputs": [],
   "source": [
    "manufacturers = data['manufacturer'].unique()\n",
    "for manufacturer in manufacturers:\n",
    "    model_filter (manufacturer)"
   ]
  },
  {
   "cell_type": "code",
   "execution_count": 95,
   "id": "46cb8557",
   "metadata": {
    "collapsed": true
   },
   "outputs": [
    {
     "ename": "KeyboardInterrupt",
     "evalue": "",
     "output_type": "error",
     "traceback": [
      "\u001b[1;31m---------------------------------------------------------------------------\u001b[0m",
      "\u001b[1;31mKeyboardInterrupt\u001b[0m                         Traceback (most recent call last)",
      "Input \u001b[1;32mIn [95]\u001b[0m, in \u001b[0;36m<cell line: 2>\u001b[1;34m()\u001b[0m\n\u001b[0;32m      1\u001b[0m manufacturers \u001b[38;5;241m=\u001b[39m data_test[\u001b[38;5;124m'\u001b[39m\u001b[38;5;124mmanufacturer\u001b[39m\u001b[38;5;124m'\u001b[39m]\u001b[38;5;241m.\u001b[39munique()\n\u001b[0;32m      2\u001b[0m \u001b[38;5;28;01mfor\u001b[39;00m i \u001b[38;5;129;01min\u001b[39;00m manufacturers:\n\u001b[1;32m----> 3\u001b[0m     \u001b[43mmodel_filter\u001b[49m\u001b[43m(\u001b[49m\u001b[43mi\u001b[49m\u001b[43m)\u001b[49m\n",
      "Input \u001b[1;32mIn [94]\u001b[0m, in \u001b[0;36mmodel_filter\u001b[1;34m(manufacturer)\u001b[0m\n\u001b[0;32m      7\u001b[0m \u001b[38;5;28;01mfor\u001b[39;00m i \u001b[38;5;129;01min\u001b[39;00m car_models:\n\u001b[0;32m      8\u001b[0m     \u001b[38;5;28;01mif\u001b[39;00m fuzz\u001b[38;5;241m.\u001b[39mtoken_sort_ratio(i[\u001b[38;5;241m0\u001b[39m],i[\u001b[38;5;241m1\u001b[39m]) \u001b[38;5;241m>\u001b[39m\u001b[38;5;241m=\u001b[39m \u001b[38;5;241m40\u001b[39m:\n\u001b[1;32m----> 9\u001b[0m         data_test[\u001b[38;5;124m'\u001b[39m\u001b[38;5;124mmodel\u001b[39m\u001b[38;5;124m'\u001b[39m] \u001b[38;5;241m=\u001b[39m \u001b[43mdata_test\u001b[49m\u001b[43m[\u001b[49m\u001b[38;5;124;43m'\u001b[39;49m\u001b[38;5;124;43mmodel\u001b[39;49m\u001b[38;5;124;43m'\u001b[39;49m\u001b[43m]\u001b[49m\u001b[38;5;241;43m.\u001b[39;49m\u001b[43mreplace\u001b[49m\u001b[43m(\u001b[49m\u001b[43m[\u001b[49m\u001b[43mi\u001b[49m\u001b[43m[\u001b[49m\u001b[38;5;241;43m1\u001b[39;49m\u001b[43m]\u001b[49m\u001b[43m]\u001b[49m\u001b[43m,\u001b[49m\u001b[43m \u001b[49m\u001b[43mi\u001b[49m\u001b[43m[\u001b[49m\u001b[38;5;241;43m0\u001b[39;49m\u001b[43m]\u001b[49m\u001b[43m)\u001b[49m\n",
      "File \u001b[1;32mC:\\ProgramData\\Anaconda3\\lib\\site-packages\\pandas\\core\\series.py:4960\u001b[0m, in \u001b[0;36mSeries.replace\u001b[1;34m(self, to_replace, value, inplace, limit, regex, method)\u001b[0m\n\u001b[0;32m   4945\u001b[0m \u001b[38;5;129m@doc\u001b[39m(\n\u001b[0;32m   4946\u001b[0m     NDFrame\u001b[38;5;241m.\u001b[39mreplace,  \u001b[38;5;66;03m# type: ignore[has-type]\u001b[39;00m\n\u001b[0;32m   4947\u001b[0m     klass\u001b[38;5;241m=\u001b[39m_shared_doc_kwargs[\u001b[38;5;124m\"\u001b[39m\u001b[38;5;124mklass\u001b[39m\u001b[38;5;124m\"\u001b[39m],\n\u001b[1;32m   (...)\u001b[0m\n\u001b[0;32m   4958\u001b[0m     method: \u001b[38;5;28mstr\u001b[39m \u001b[38;5;241m|\u001b[39m lib\u001b[38;5;241m.\u001b[39mNoDefault \u001b[38;5;241m=\u001b[39m lib\u001b[38;5;241m.\u001b[39mno_default,\n\u001b[0;32m   4959\u001b[0m ):\n\u001b[1;32m-> 4960\u001b[0m     \u001b[38;5;28;01mreturn\u001b[39;00m \u001b[38;5;28;43msuper\u001b[39;49m\u001b[43m(\u001b[49m\u001b[43m)\u001b[49m\u001b[38;5;241;43m.\u001b[39;49m\u001b[43mreplace\u001b[49m\u001b[43m(\u001b[49m\n\u001b[0;32m   4961\u001b[0m \u001b[43m        \u001b[49m\u001b[43mto_replace\u001b[49m\u001b[38;5;241;43m=\u001b[39;49m\u001b[43mto_replace\u001b[49m\u001b[43m,\u001b[49m\n\u001b[0;32m   4962\u001b[0m \u001b[43m        \u001b[49m\u001b[43mvalue\u001b[49m\u001b[38;5;241;43m=\u001b[39;49m\u001b[43mvalue\u001b[49m\u001b[43m,\u001b[49m\n\u001b[0;32m   4963\u001b[0m \u001b[43m        \u001b[49m\u001b[43minplace\u001b[49m\u001b[38;5;241;43m=\u001b[39;49m\u001b[43minplace\u001b[49m\u001b[43m,\u001b[49m\n\u001b[0;32m   4964\u001b[0m \u001b[43m        \u001b[49m\u001b[43mlimit\u001b[49m\u001b[38;5;241;43m=\u001b[39;49m\u001b[43mlimit\u001b[49m\u001b[43m,\u001b[49m\n\u001b[0;32m   4965\u001b[0m \u001b[43m        \u001b[49m\u001b[43mregex\u001b[49m\u001b[38;5;241;43m=\u001b[39;49m\u001b[43mregex\u001b[49m\u001b[43m,\u001b[49m\n\u001b[0;32m   4966\u001b[0m \u001b[43m        \u001b[49m\u001b[43mmethod\u001b[49m\u001b[38;5;241;43m=\u001b[39;49m\u001b[43mmethod\u001b[49m\u001b[43m,\u001b[49m\n\u001b[0;32m   4967\u001b[0m \u001b[43m    \u001b[49m\u001b[43m)\u001b[49m\n",
      "File \u001b[1;32mC:\\ProgramData\\Anaconda3\\lib\\site-packages\\pandas\\core\\generic.py:6702\u001b[0m, in \u001b[0;36mNDFrame.replace\u001b[1;34m(self, to_replace, value, inplace, limit, regex, method)\u001b[0m\n\u001b[0;32m   6697\u001b[0m     \u001b[38;5;28;01mif\u001b[39;00m \u001b[38;5;28mlen\u001b[39m(to_replace) \u001b[38;5;241m!=\u001b[39m \u001b[38;5;28mlen\u001b[39m(value):\n\u001b[0;32m   6698\u001b[0m         \u001b[38;5;28;01mraise\u001b[39;00m \u001b[38;5;167;01mValueError\u001b[39;00m(\n\u001b[0;32m   6699\u001b[0m             \u001b[38;5;124mf\u001b[39m\u001b[38;5;124m\"\u001b[39m\u001b[38;5;124mReplacement lists must match in length. \u001b[39m\u001b[38;5;124m\"\u001b[39m\n\u001b[0;32m   6700\u001b[0m             \u001b[38;5;124mf\u001b[39m\u001b[38;5;124m\"\u001b[39m\u001b[38;5;124mExpecting \u001b[39m\u001b[38;5;132;01m{\u001b[39;00m\u001b[38;5;28mlen\u001b[39m(to_replace)\u001b[38;5;132;01m}\u001b[39;00m\u001b[38;5;124m got \u001b[39m\u001b[38;5;132;01m{\u001b[39;00m\u001b[38;5;28mlen\u001b[39m(value)\u001b[38;5;132;01m}\u001b[39;00m\u001b[38;5;124m \u001b[39m\u001b[38;5;124m\"\u001b[39m\n\u001b[0;32m   6701\u001b[0m         )\n\u001b[1;32m-> 6702\u001b[0m     new_data \u001b[38;5;241m=\u001b[39m \u001b[38;5;28;43mself\u001b[39;49m\u001b[38;5;241;43m.\u001b[39;49m\u001b[43m_mgr\u001b[49m\u001b[38;5;241;43m.\u001b[39;49m\u001b[43mreplace_list\u001b[49m\u001b[43m(\u001b[49m\n\u001b[0;32m   6703\u001b[0m \u001b[43m        \u001b[49m\u001b[43msrc_list\u001b[49m\u001b[38;5;241;43m=\u001b[39;49m\u001b[43mto_replace\u001b[49m\u001b[43m,\u001b[49m\n\u001b[0;32m   6704\u001b[0m \u001b[43m        \u001b[49m\u001b[43mdest_list\u001b[49m\u001b[38;5;241;43m=\u001b[39;49m\u001b[43mvalue\u001b[49m\u001b[43m,\u001b[49m\n\u001b[0;32m   6705\u001b[0m \u001b[43m        \u001b[49m\u001b[43minplace\u001b[49m\u001b[38;5;241;43m=\u001b[39;49m\u001b[43minplace\u001b[49m\u001b[43m,\u001b[49m\n\u001b[0;32m   6706\u001b[0m \u001b[43m        \u001b[49m\u001b[43mregex\u001b[49m\u001b[38;5;241;43m=\u001b[39;49m\u001b[43mregex\u001b[49m\u001b[43m,\u001b[49m\n\u001b[0;32m   6707\u001b[0m \u001b[43m    \u001b[49m\u001b[43m)\u001b[49m\n\u001b[0;32m   6709\u001b[0m \u001b[38;5;28;01melif\u001b[39;00m to_replace \u001b[38;5;129;01mis\u001b[39;00m \u001b[38;5;28;01mNone\u001b[39;00m:\n\u001b[0;32m   6710\u001b[0m     \u001b[38;5;28;01mif\u001b[39;00m \u001b[38;5;129;01mnot\u001b[39;00m (\n\u001b[0;32m   6711\u001b[0m         is_re_compilable(regex)\n\u001b[0;32m   6712\u001b[0m         \u001b[38;5;129;01mor\u001b[39;00m is_list_like(regex)\n\u001b[0;32m   6713\u001b[0m         \u001b[38;5;129;01mor\u001b[39;00m is_dict_like(regex)\n\u001b[0;32m   6714\u001b[0m     ):\n",
      "File \u001b[1;32mC:\\ProgramData\\Anaconda3\\lib\\site-packages\\pandas\\core\\internals\\managers.py:458\u001b[0m, in \u001b[0;36mBaseBlockManager.replace_list\u001b[1;34m(self, src_list, dest_list, inplace, regex)\u001b[0m\n\u001b[0;32m    455\u001b[0m \u001b[38;5;124;03m\"\"\"do a list replace\"\"\"\u001b[39;00m\n\u001b[0;32m    456\u001b[0m inplace \u001b[38;5;241m=\u001b[39m validate_bool_kwarg(inplace, \u001b[38;5;124m\"\u001b[39m\u001b[38;5;124minplace\u001b[39m\u001b[38;5;124m\"\u001b[39m)\n\u001b[1;32m--> 458\u001b[0m bm \u001b[38;5;241m=\u001b[39m \u001b[38;5;28;43mself\u001b[39;49m\u001b[38;5;241;43m.\u001b[39;49m\u001b[43mapply\u001b[49m\u001b[43m(\u001b[49m\n\u001b[0;32m    459\u001b[0m \u001b[43m    \u001b[49m\u001b[38;5;124;43m\"\u001b[39;49m\u001b[38;5;124;43mreplace_list\u001b[39;49m\u001b[38;5;124;43m\"\u001b[39;49m\u001b[43m,\u001b[49m\n\u001b[0;32m    460\u001b[0m \u001b[43m    \u001b[49m\u001b[43msrc_list\u001b[49m\u001b[38;5;241;43m=\u001b[39;49m\u001b[43msrc_list\u001b[49m\u001b[43m,\u001b[49m\n\u001b[0;32m    461\u001b[0m \u001b[43m    \u001b[49m\u001b[43mdest_list\u001b[49m\u001b[38;5;241;43m=\u001b[39;49m\u001b[43mdest_list\u001b[49m\u001b[43m,\u001b[49m\n\u001b[0;32m    462\u001b[0m \u001b[43m    \u001b[49m\u001b[43minplace\u001b[49m\u001b[38;5;241;43m=\u001b[39;49m\u001b[43minplace\u001b[49m\u001b[43m,\u001b[49m\n\u001b[0;32m    463\u001b[0m \u001b[43m    \u001b[49m\u001b[43mregex\u001b[49m\u001b[38;5;241;43m=\u001b[39;49m\u001b[43mregex\u001b[49m\u001b[43m,\u001b[49m\n\u001b[0;32m    464\u001b[0m \u001b[43m\u001b[49m\u001b[43m)\u001b[49m\n\u001b[0;32m    465\u001b[0m bm\u001b[38;5;241m.\u001b[39m_consolidate_inplace()\n\u001b[0;32m    466\u001b[0m \u001b[38;5;28;01mreturn\u001b[39;00m bm\n",
      "File \u001b[1;32mC:\\ProgramData\\Anaconda3\\lib\\site-packages\\pandas\\core\\internals\\managers.py:304\u001b[0m, in \u001b[0;36mBaseBlockManager.apply\u001b[1;34m(self, f, align_keys, ignore_failures, **kwargs)\u001b[0m\n\u001b[0;32m    302\u001b[0m         applied \u001b[38;5;241m=\u001b[39m b\u001b[38;5;241m.\u001b[39mapply(f, \u001b[38;5;241m*\u001b[39m\u001b[38;5;241m*\u001b[39mkwargs)\n\u001b[0;32m    303\u001b[0m     \u001b[38;5;28;01melse\u001b[39;00m:\n\u001b[1;32m--> 304\u001b[0m         applied \u001b[38;5;241m=\u001b[39m \u001b[38;5;28mgetattr\u001b[39m(b, f)(\u001b[38;5;241m*\u001b[39m\u001b[38;5;241m*\u001b[39mkwargs)\n\u001b[0;32m    305\u001b[0m \u001b[38;5;28;01mexcept\u001b[39;00m (\u001b[38;5;167;01mTypeError\u001b[39;00m, \u001b[38;5;167;01mNotImplementedError\u001b[39;00m):\n\u001b[0;32m    306\u001b[0m     \u001b[38;5;28;01mif\u001b[39;00m \u001b[38;5;129;01mnot\u001b[39;00m ignore_failures:\n",
      "File \u001b[1;32mC:\\ProgramData\\Anaconda3\\lib\\site-packages\\pandas\\core\\internals\\blocks.py:792\u001b[0m, in \u001b[0;36mBlock.replace_list\u001b[1;34m(self, src_list, dest_list, inplace, regex)\u001b[0m\n\u001b[0;32m    787\u001b[0m src_len \u001b[38;5;241m=\u001b[39m \u001b[38;5;28mlen\u001b[39m(pairs) \u001b[38;5;241m-\u001b[39m \u001b[38;5;241m1\u001b[39m\n\u001b[0;32m    789\u001b[0m \u001b[38;5;28;01mif\u001b[39;00m is_string_dtype(values\u001b[38;5;241m.\u001b[39mdtype):\n\u001b[0;32m    790\u001b[0m     \u001b[38;5;66;03m# Calculate the mask once, prior to the call of comp\u001b[39;00m\n\u001b[0;32m    791\u001b[0m     \u001b[38;5;66;03m# in order to avoid repeating the same computations\u001b[39;00m\n\u001b[1;32m--> 792\u001b[0m     mask \u001b[38;5;241m=\u001b[39m \u001b[38;5;241;43m~\u001b[39;49m\u001b[43misna\u001b[49m\u001b[43m(\u001b[49m\u001b[43mvalues\u001b[49m\u001b[43m)\u001b[49m\n\u001b[0;32m    793\u001b[0m     masks \u001b[38;5;241m=\u001b[39m [\n\u001b[0;32m    794\u001b[0m         compare_or_regex_search(values, s[\u001b[38;5;241m0\u001b[39m], regex\u001b[38;5;241m=\u001b[39mregex, mask\u001b[38;5;241m=\u001b[39mmask)\n\u001b[0;32m    795\u001b[0m         \u001b[38;5;28;01mfor\u001b[39;00m s \u001b[38;5;129;01min\u001b[39;00m pairs\n\u001b[0;32m    796\u001b[0m     ]\n\u001b[0;32m    797\u001b[0m \u001b[38;5;28;01melse\u001b[39;00m:\n\u001b[0;32m    798\u001b[0m     \u001b[38;5;66;03m# GH#38086 faster if we know we dont need to check for regex\u001b[39;00m\n",
      "\u001b[1;31mKeyboardInterrupt\u001b[0m: "
     ]
    }
   ],
   "source": [
    "manufacturers = data_test['manufacturer'].unique()\n",
    "for i in manufacturers:\n",
    "    model_filter(i)"
   ]
  },
  {
   "cell_type": "code",
   "execution_count": 16,
   "id": "925b7eef",
   "metadata": {},
   "outputs": [],
   "source": [
    "from sklearn import preprocessing\n",
    "import pandas as pd\n",
    "le = preprocessing.LabelEncoder()   #https://pbpython.com/categorical-encoding.html"
   ]
  },
  {
   "cell_type": "code",
   "execution_count": 21,
   "id": "3bbf2702",
   "metadata": {},
   "outputs": [],
   "source": [
    "#Changes categorical data to numerical\n",
    "columnsForEncoder = ['manufacturer', 'condition', 'cylinders', 'fuel', 'transmission', 'drive', 'type', \n",
    "                     'paint_color','size','model']\n",
    "data[columnsForEncoder]=data[columnsForEncoder].apply(le.fit_transform)"
   ]
  },
  {
   "cell_type": "code",
   "execution_count": 19,
   "id": "84a68f38",
   "metadata": {
    "scrolled": true
   },
   "outputs": [
    {
     "data": {
      "text/html": [
       "<div>\n",
       "<style scoped>\n",
       "    .dataframe tbody tr th:only-of-type {\n",
       "        vertical-align: middle;\n",
       "    }\n",
       "\n",
       "    .dataframe tbody tr th {\n",
       "        vertical-align: top;\n",
       "    }\n",
       "\n",
       "    .dataframe thead th {\n",
       "        text-align: right;\n",
       "    }\n",
       "</style>\n",
       "<table border=\"1\" class=\"dataframe\">\n",
       "  <thead>\n",
       "    <tr style=\"text-align: right;\">\n",
       "      <th></th>\n",
       "      <th>price</th>\n",
       "      <th>year</th>\n",
       "      <th>manufacturer</th>\n",
       "      <th>condition</th>\n",
       "      <th>cylinders</th>\n",
       "      <th>odometer</th>\n",
       "      <th>fuel</th>\n",
       "      <th>transmission</th>\n",
       "      <th>drive</th>\n",
       "      <th>type</th>\n",
       "      <th>paint_color</th>\n",
       "      <th>size</th>\n",
       "      <th>model</th>\n",
       "    </tr>\n",
       "  </thead>\n",
       "  <tbody>\n",
       "    <tr>\n",
       "      <th>31</th>\n",
       "      <td>15000.0</td>\n",
       "      <td>2013.0</td>\n",
       "      <td>13</td>\n",
       "      <td>0</td>\n",
       "      <td>5</td>\n",
       "      <td>128000.0</td>\n",
       "      <td>2</td>\n",
       "      <td>0</td>\n",
       "      <td>2</td>\n",
       "      <td>10</td>\n",
       "      <td>0</td>\n",
       "      <td>1</td>\n",
       "      <td>8</td>\n",
       "    </tr>\n",
       "    <tr>\n",
       "      <th>55</th>\n",
       "      <td>19900.0</td>\n",
       "      <td>2004.0</td>\n",
       "      <td>13</td>\n",
       "      <td>1</td>\n",
       "      <td>6</td>\n",
       "      <td>88000.0</td>\n",
       "      <td>0</td>\n",
       "      <td>0</td>\n",
       "      <td>0</td>\n",
       "      <td>8</td>\n",
       "      <td>1</td>\n",
       "      <td>1</td>\n",
       "      <td>117</td>\n",
       "    </tr>\n",
       "    <tr>\n",
       "      <th>59</th>\n",
       "      <td>14000.0</td>\n",
       "      <td>2012.0</td>\n",
       "      <td>16</td>\n",
       "      <td>0</td>\n",
       "      <td>5</td>\n",
       "      <td>95000.0</td>\n",
       "      <td>2</td>\n",
       "      <td>0</td>\n",
       "      <td>1</td>\n",
       "      <td>5</td>\n",
       "      <td>9</td>\n",
       "      <td>1</td>\n",
       "      <td>476</td>\n",
       "    </tr>\n",
       "    <tr>\n",
       "      <th>65</th>\n",
       "      <td>22500.0</td>\n",
       "      <td>2001.0</td>\n",
       "      <td>13</td>\n",
       "      <td>1</td>\n",
       "      <td>6</td>\n",
       "      <td>144700.0</td>\n",
       "      <td>0</td>\n",
       "      <td>1</td>\n",
       "      <td>2</td>\n",
       "      <td>10</td>\n",
       "      <td>10</td>\n",
       "      <td>1</td>\n",
       "      <td>2</td>\n",
       "    </tr>\n",
       "    <tr>\n",
       "      <th>73</th>\n",
       "      <td>15000.0</td>\n",
       "      <td>2017.0</td>\n",
       "      <td>10</td>\n",
       "      <td>0</td>\n",
       "      <td>6</td>\n",
       "      <td>90000.0</td>\n",
       "      <td>2</td>\n",
       "      <td>0</td>\n",
       "      <td>2</td>\n",
       "      <td>9</td>\n",
       "      <td>5</td>\n",
       "      <td>2</td>\n",
       "      <td>95</td>\n",
       "    </tr>\n",
       "  </tbody>\n",
       "</table>\n",
       "</div>"
      ],
      "text/plain": [
       "      price    year  manufacturer  condition  cylinders  odometer  fuel  \\\n",
       "31  15000.0  2013.0            13          0          5  128000.0     2   \n",
       "55  19900.0  2004.0            13          1          6   88000.0     0   \n",
       "59  14000.0  2012.0            16          0          5   95000.0     2   \n",
       "65  22500.0  2001.0            13          1          6  144700.0     0   \n",
       "73  15000.0  2017.0            10          0          6   90000.0     2   \n",
       "\n",
       "    transmission  drive  type  paint_color  size  model  \n",
       "31             0      2    10            0     1      8  \n",
       "55             0      0     8            1     1    117  \n",
       "59             0      1     5            9     1    476  \n",
       "65             1      2    10           10     1      2  \n",
       "73             0      2     9            5     2     95  "
      ]
     },
     "execution_count": 19,
     "metadata": {},
     "output_type": "execute_result"
    }
   ],
   "source": [
    "data.head()"
   ]
  },
  {
   "cell_type": "markdown",
   "id": "d11e3036",
   "metadata": {},
   "source": [
    "# 3.  Training model"
   ]
  },
  {
   "cell_type": "code",
   "execution_count": 41,
   "id": "3a17c83d",
   "metadata": {},
   "outputs": [],
   "source": [
    "X = data.drop(columns=['price'])\n",
    "y = data['price']\n",
    "\n",
    "rmse_list = []\n",
    "r2_score_list = []\n",
    "\n",
    "X_train, X_test, y_train, y_test = train_test_split(X, y, test_size=.8, train_size=.2, random_state=1)"
   ]
  },
  {
   "cell_type": "code",
   "execution_count": 42,
   "id": "343d00fd",
   "metadata": {},
   "outputs": [
    {
     "name": "stdout",
     "output_type": "stream",
     "text": [
      "Random Forest R2 score before optimization:  0.7\n",
      "Random Forest RMSE before optimization:  5573.65\n",
      "Random Forest score before optimization:  0.7\n",
      "Fitting 10 folds for each of 10 candidates, totalling 100 fits\n",
      "--------------------\n",
      "Random search results:\n",
      "Random Forest R2 score after random search:  0.72\n",
      "The best model from the randomized search has a RMSE of:  5386.09\n",
      "Random Forest score after random search:  0.72\n",
      "--------------------\n",
      "Grid search results:\n",
      "Random Forest R2 score after grid search:  0.72\n",
      "The best model from the grid search has a RMSE of:  5391.21\n",
      "Random Forest score after grid search:  0.72\n"
     ]
    }
   ],
   "source": [
    "# Random Forest\n",
    "RF = RandomForestRegressor(n_estimators=20, random_state=0)\n",
    "RF.fit(X_train, y_train)\n",
    "\n",
    "# R2 score, MSE and RMSE before optimization\n",
    "r2 = r2_score(y_test, RF.predict(X_test))\n",
    "MSE = mean_squared_error(y_test, RF.predict(X_test))\n",
    "RMSE = np.sqrt(MSE)\n",
    "print(\"Random Forest R2 score before optimization: \", round(r2, 2))\n",
    "print(\"Random Forest RMSE before optimization: \", round(RMSE, 2))\n",
    "print(\"Random Forest score before optimization: \", round(RF.score(X_test, y_test),2))\n",
    "\n",
    "# Random search for best hyperparameters\n",
    "# Number of trees in random forest\n",
    "n_estimators = [int(x) for x in np.linspace(start = 20, stop = 200, num = 5)]\n",
    "# Number of features to consider at every split\n",
    "max_features = ['auto', 'sqrt']\n",
    "# Maximum number of levels in tree\n",
    "max_depth = [int(x) for x in np.linspace(1, 45, num = 3)]\n",
    "# Minimum number of samples required to split a node\n",
    "min_samples_split = [5, 10]\n",
    "# Create the random grid\n",
    "random_grid = {'n_estimators': n_estimators,\n",
    "               'max_features': max_features,\n",
    "               'max_depth': max_depth,\n",
    "               'min_samples_split': min_samples_split}\n",
    "\n",
    "# Random search of parameters, using 3 fold cross validation, \n",
    "# search across 100 different combinations, and use all available cores\n",
    "rf_random = RandomizedSearchCV(estimator = RF, param_distributions = random_grid, n_iter = 10, cv = 10, verbose=2, random_state=42, n_jobs = -1, scoring='r2')\n",
    "# Fit the random search model\n",
    "rf_random.fit(X_train, y_train)\n",
    "\n",
    "# best random model\n",
    "rf_random.best_estimator_\n",
    "\n",
    "# best combination of parameters of random search\n",
    "rf_random.best_params_\n",
    "\n",
    "# New R2 score, MSE and RMSE (best random model RMSE)\n",
    "random_best= rf_random.best_estimator_.predict(X_test)\n",
    "final_r2 = r2_score(y_test, random_best)\n",
    "final_mse = mean_squared_error(y_test, random_best)\n",
    "final_rmse = np.sqrt(final_mse)\n",
    "print(\"-\" * 20)\n",
    "print(\"Random search results:\")\n",
    "print(\"Random Forest R2 score after random search: \", round(final_r2, 2))\n",
    "print('The best model from the randomized search has a RMSE of: ', round(final_rmse, 2))\n",
    "print(\"Random Forest score after random search: \", round(rf_random.best_estimator_.score(X_test, y_test),2))\n",
    "\n",
    "\n",
    "# Grid search \n",
    "clf = GridSearchCV(estimator = RF, param_grid = random_grid, n_jobs = -1, scoring='r2')\n",
    "clf.fit(X_train, y_train)\n",
    "\n",
    "# New R2 score, MSE and RMSE\n",
    "grid_best= clf.best_estimator_.predict(X_test)\n",
    "final_r2 = r2_score(y_test, grid_best)\n",
    "final_mse = mean_squared_error(y_test, grid_best)\n",
    "final_rmse = np.sqrt(final_mse)\n",
    "rmse_list.append(final_rmse)\n",
    "r2_score_list.append(final_r2)\n",
    "print(\"-\" * 20)\n",
    "print(\"Grid search results:\")\n",
    "print(\"Random Forest R2 score after grid search: \", round(final_r2, 2))\n",
    "print('The best model from the grid search has a RMSE of: ', round(final_rmse, 2))\n",
    "print(\"Random Forest score after grid search: \", round(clf.best_estimator_.score(X_test, y_test),2))"
   ]
  },
  {
   "cell_type": "code",
   "execution_count": 43,
   "id": "6ecc00f4",
   "metadata": {},
   "outputs": [
    {
     "name": "stdout",
     "output_type": "stream",
     "text": [
      "Elastic net regression RMSE:  7945.12\n",
      "Elastic net regression score:  0.39\n",
      "Elastic net regression RMSE:  7741.98\n",
      "Elastic net regression score:  0.42\n"
     ]
    },
    {
     "name": "stderr",
     "output_type": "stream",
     "text": [
      "C:\\ProgramData\\Anaconda3\\lib\\site-packages\\sklearn\\linear_model\\_coordinate_descent.py:647: ConvergenceWarning: Objective did not converge. You might want to increase the number of iterations, check the scale of the features or consider increasing regularisation. Duality gap: 4.723e+11, tolerance: 1.649e+08\n",
      "  model = cd_fast.enet_coordinate_descent(\n"
     ]
    }
   ],
   "source": [
    "# Elastic Net Regression\n",
    "from sklearn.model_selection import GridSearchCV\n",
    "from sklearn.linear_model import ElasticNet\n",
    "elastic_net_regression = ElasticNet(random_state=0)\n",
    "elastic_net_regression.fit(X_train, y_train)\n",
    "\n",
    "# R2 score, MSE and RMSE \n",
    "MSE = mean_squared_error(y_test, elastic_net_regression.predict(X_test))\n",
    "RMSE = np.sqrt(MSE)\n",
    "print(\"Elastic net regression RMSE: \", round(RMSE, 2))\n",
    "print(\"Elastic net regression score: \", round(elastic_net_regression.score(X_test, y_test),2))\n",
    "\n",
    "\n",
    "# Grid search\n",
    "clf_EN = GridSearchCV(estimator=elastic_net_regression,  param_grid={\"max_iter\": [1, 5, 10],\n",
    "                      \"alpha\": [0.0001, 0.001, 0.01, 0.1, 1, 10, 100],\n",
    "                      \"l1_ratio\": np.arange(0.0, 1.0, 0.1)}, n_jobs = -1, scoring='r2')\n",
    "clf_EN.fit(X_train, y_train)\n",
    "\n",
    "# New R2 score, MSE and RMSE\n",
    "grid_best = clf_EN.best_estimator_.predict(X_test)\n",
    "final_r2 = r2_score(y_test, grid_best)\n",
    "final_mse = mean_squared_error(y_test, grid_best)\n",
    "final_rmse = np.sqrt(final_mse)\n",
    "rmse_list.append(final_rmse)\n",
    "r2_score_list.append(final_r2)\n",
    "print(\"Elastic net regression RMSE: \", round(final_rmse, 2))\n",
    "print(\"Elastic net regression score: \", round(clf_EN.best_estimator_.score(X_test, y_test),2))"
   ]
  },
  {
   "cell_type": "code",
   "execution_count": 44,
   "id": "e6ba9b4a",
   "metadata": {},
   "outputs": [
    {
     "name": "stdout",
     "output_type": "stream",
     "text": [
      "Decision tree R2 score before optimization:  0.46\n",
      "Decision tree RMSE before optimization:  7487.1\n",
      "Decision tree score before optimization:  0.46\n",
      "Random Forest R2 score after optimization:  0.56\n",
      "The best model from the randomized search has a RMSE of:  6764.16\n",
      "Random Forest score after optimization:  0.56\n"
     ]
    }
   ],
   "source": [
    "# Decision tree regression\n",
    "from sklearn.tree import DecisionTreeRegressor\n",
    "decision_tree_reg = DecisionTreeRegressor(random_state=0)\n",
    "decision_tree_reg.fit(X_train, y_train)\n",
    "\n",
    "# R2 score, MSE and RMSE\n",
    "r2 = r2_score(y_test, decision_tree_reg.predict(X_test))\n",
    "MSE = mean_squared_error(y_test, decision_tree_reg.predict(X_test))\n",
    "RMSE = np.sqrt(MSE)\n",
    "print(\"Decision tree R2 score before optimization: \", round(r2, 2))\n",
    "print(\"Decision tree RMSE before optimization: \", round(RMSE, 2))\n",
    "print(\"Decision tree score before optimization: \", round(decision_tree_reg.score(X_test, y_test),2))\n",
    "\n",
    "# Grid search for best parameters\n",
    "criterion = [\"friedman_mse\", \"mse\"]\n",
    "max_depth = [4,6,8,10]\n",
    "grid_parameters = {'criterion': criterion,'max_depth': max_depth}\n",
    "clf = GridSearchCV(estimator = decision_tree_reg, param_grid = grid_parameters, n_jobs = -1, scoring='r2')\n",
    "clf.fit(X_train, y_train)\n",
    "\n",
    "# New R2 score, MSE and RMSE\n",
    "grid_best= clf.best_estimator_.predict(X_test)\n",
    "final_r2 = r2_score(y_test, grid_best)\n",
    "final_mse = mean_squared_error(y_test, grid_best)\n",
    "final_rmse = np.sqrt(final_mse)\n",
    "rmse_list.append(final_rmse)\n",
    "r2_score_list.append(final_r2)\n",
    "print(\"Random Forest R2 score after optimization: \", round(final_r2, 2))\n",
    "print('The best model from the randomized search has a RMSE of: ', round(final_rmse, 2))\n",
    "print(\"Random Forest score after optimization: \", round(clf.best_estimator_.score(X_test, y_test),2))"
   ]
  },
  {
   "cell_type": "code",
   "execution_count": 60,
   "id": "30b85fd1",
   "metadata": {
    "scrolled": false
   },
   "outputs": [
    {
     "data": {
      "text/plain": [
       "Text(0.5, 0, 'Root-mean-squared-error')"
      ]
     },
     "execution_count": 60,
     "metadata": {},
     "output_type": "execute_result"
    },
    {
     "data": {
      "image/png": "[encoded data removed]",
      "text/plain": [
       "<Figure size 720x360 with 1 Axes>"
      ]
     },
     "metadata": {
      "needs_background": "light"
     },
     "output_type": "display_data"
    },
    {
     "data": {
      "image/png": "[encoded data removed]",
      "text/plain": [
       "<Figure size 720x360 with 1 Axes>"
      ]
     },
     "metadata": {
      "needs_background": "light"
     },
     "output_type": "display_data"
    }
   ],
   "source": [
    "# Visualization of models\n",
    "# R2 score\n",
    "plt.rcParams['figure.figsize'] = [10, 5]\n",
    "model_names = ['Random Forest regression', 'Elastic Net regression', 'Decision Tree regression']\n",
    "results = {'model': model_names ,'results' : r2_score_list}\n",
    "df2 = pd.DataFrame(results).sort_values(by=['results'], ascending=False)\n",
    "plots = df2.plot(kind=\"barh\", x='model', y='results', title='R2 score of the used regression models', label=\"R2 score\", color='orange')\n",
    "\n",
    "for bar in plots.patches:\n",
    "    width = bar.get_width()\n",
    "    plt.text(0.04+bar.get_width(), bar.get_y()+0.5*bar.get_height(),\n",
    "                 round(bar.get_width(), 2),\n",
    "                 ha='center', va='center', size=11)\n",
    "plt.xlim([0, 1])\n",
    "plt.ylabel(\"Model name\")\n",
    "plt.xlabel(\"R2 score\")\n",
    "\n",
    "# RMSE \n",
    "model_names = ['Random Forest regression', 'Elastic Net regression', 'Decision Tree regression']\n",
    "results = {'model': model_names ,'results' : rmse_list}\n",
    "df2 = pd.DataFrame(results).sort_values(by=['results'], ascending=False)\n",
    "plots = df2.plot(kind=\"barh\", x='model', y='results', title='RMSE of the used regression models', label=\"RMSE\", color='orange')\n",
    "\n",
    "for bar in plots.patches:\n",
    "    plt.text(60+bar.get_width(), bar.get_y()+0.5*bar.get_height(),\n",
    "                 round(bar.get_width(), 2),\n",
    "                 ha='center', va='center', size=11)\n",
    "plt.xlim([0, 10000])\n",
    "plt.ylabel(\"Model name\")\n",
    "plt.xlabel(\"Root-mean-squared-error\")"
   ]
  },
  {
   "cell_type": "code",
   "execution_count": 32,
   "id": "021ad5e8",
   "metadata": {},
   "outputs": [
    {
     "name": "stdout",
     "output_type": "stream",
     "text": [
      "year\n",
      "0.3940628897908063\n",
      "manufacturer\n",
      "-0.054024336284954046\n",
      "condition\n",
      "-0.18790223257294955\n",
      "cylinders\n",
      "0.24923853194814027\n",
      "odometer\n",
      "-0.40198912103243556\n",
      "fuel\n",
      "-0.2979049442765192\n",
      "transmission\n",
      "-0.05636629163094412\n",
      "drive\n",
      "-0.13388301482940682\n",
      "type\n",
      "0.07101452059899066\n",
      "paint_color\n",
      "0.05353749886170677\n",
      "size\n",
      "-0.04507726631110317\n",
      "model\n",
      "-0.174039736143037\n"
     ]
    }
   ],
   "source": [
    "# for every column that is not price,\n",
    "# we will find the correlation between that column and the price column\n",
    "answer = []\n",
    "for column in data.columns:\n",
    "    if column != 'price' :\n",
    "    \n",
    "        looked = data[['price', column]]\n",
    "        correlation = looked.corr(method='pearson')\n",
    "        true_correlation = correlation['price'][column]\n",
    "        print(column)\n",
    "        answer.append(abs(true_correlation))\n",
    "        print(true_correlation)"
   ]
  },
  {
   "cell_type": "code",
   "execution_count": 34,
   "id": "60f16321",
   "metadata": {},
   "outputs": [
    {
     "data": {
      "text/plain": [
       "Text(0.5, 0, 'Correlation with price')"
      ]
     },
     "execution_count": 34,
     "metadata": {},
     "output_type": "execute_result"
    },
    {
     "data": {
      "image/png": "[encoded data removed]",
      "text/plain": [
       "<Figure size 432x288 with 1 Axes>"
      ]
     },
     "metadata": {
      "needs_background": "light"
     },
     "output_type": "display_data"
    }
   ],
   "source": [
    "# plotting the results\n",
    "correlations = {'feature': ['year', 'manufacturer', 'condition', 'cylinders', 'odometer',\n",
    "       'fuel', 'transmission', 'drive', 'type', 'paint_color', 'size',\n",
    "       'model'],\n",
    "        'correlations' : answer}\n",
    "df2 = pd.DataFrame(correlations).sort_values(by=['correlations'], ascending=False)\n",
    "df2.plot(kind=\"barh\", x='feature', y='correlations', title='Correlations between price and other features',color='orange')\n",
    "plt.ylabel(\"Feature\")\n",
    "plt.xlabel(\"Correlation with price\")"
   ]
  },
  {
   "cell_type": "code",
   "execution_count": 36,
   "id": "38ea6e6b",
   "metadata": {},
   "outputs": [],
   "source": [
    "# iterating over every year in the dataset and finding each year mean-value\n",
    "import seaborn as sns\n",
    "import matplotlib.pyplot as plt\n",
    "aastad = []\n",
    "df_grouped = data.groupby(\"year\")\n",
    "years = df_grouped.groups.keys()\n",
    "year_names = list(years)\n",
    "for df_group in df_grouped.groups.items():\n",
    "    mean_price = list(df_grouped[\"price\"].mean())\n",
    "aastad.append(mean_price)"
   ]
  },
  {
   "cell_type": "code",
   "execution_count": 38,
   "id": "39797724",
   "metadata": {},
   "outputs": [
    {
     "name": "stdout",
     "output_type": "stream",
     "text": [
      "1994.0\n",
      "1995.0\n",
      "1996.0\n",
      "1997.0\n",
      "1998.0\n",
      "1999.0\n",
      "2000.0\n",
      "2001.0\n",
      "2002.0\n",
      "2003.0\n",
      "2004.0\n",
      "2005.0\n",
      "2006.0\n",
      "2007.0\n",
      "2008.0\n",
      "2009.0\n",
      "2010.0\n",
      "2011.0\n",
      "2012.0\n",
      "2013.0\n",
      "2014.0\n",
      "2015.0\n",
      "2016.0\n",
      "2017.0\n",
      "2018.0\n",
      "2019.0\n",
      "2020.0\n",
      "2021.0\n",
      "2022.0\n",
      "[11888.485353762957, 7438.497368421053, 7071.7188940092165, 6323.078324225865, 6823.946688206785, 6036.754777070064, 5999.895619757689, 6431.639087018545, 6331.9221967963385, 6592.1035242290745, 6462.914658237851, 7037.865647364997, 7956.470444020702, 8541.914535984848, 9084.877679151332, 8635.358405753672, 9324.956433121019, 11147.226880134822, 12307.59759085341, 13021.094916459297, 15150.876641918903, 17554.925129430507, 18556.24988224211, 20087.151228249742, 22452.542283645937, 24196.63014377789, 26176.913978494624, 27326.449438202246, 20035.0]\n"
     ]
    }
   ],
   "source": [
    "# because the last for-loop made a list inside a list, then now \n",
    "# quite barbaricly I'm transitioning the data into the correct data structure\n",
    "# to be able to plot it later.\n",
    "rightAnswer = []\n",
    "for i in range(len(year_names)):\n",
    "    print(year_names[i])\n",
    "    rightAnswer.append(aastad[0][i])\n",
    "\n",
    "print(rightAnswer)"
   ]
  },
  {
   "cell_type": "code",
   "execution_count": 40,
   "id": "dd4da7f6",
   "metadata": {},
   "outputs": [
    {
     "data": {
      "text/plain": [
       "Text(0, 0.5, 'Price')"
      ]
     },
     "execution_count": 40,
     "metadata": {},
     "output_type": "execute_result"
    },
    {
     "data": {
      "image/png": "[encoded data removed]",
      "text/plain": [
       "<Figure size 432x288 with 1 Axes>"
      ]
     },
     "metadata": {
      "needs_background": "light"
     },
     "output_type": "display_data"
    }
   ],
   "source": [
    "plt.plot(year_names,rightAnswer, color=\"orange\")\n",
    "plt.xlabel(\"Year\")\n",
    "plt.ylabel(\"Price\")"
   ]
  }
 ],
 "metadata": {
  "kernelspec": {
   "display_name": "Python 3 (ipykernel)",
   "language": "python",
   "name": "python3"
  },
  "language_info": {
   "codemirror_mode": {
    "name": "ipython",
    "version": 3
   },
   "file_extension": ".py",
   "mimetype": "text/x-python",
   "name": "python",
   "nbconvert_exporter": "python",
   "pygments_lexer": "ipython3",
   "version": "3.9.12"
  }
 },
 "nbformat": 4,
 "nbformat_minor": 5
}
